{
  "nbformat": 4,
  "nbformat_minor": 0,
  "metadata": {
    "colab": {
      "provenance": [],
      "authorship_tag": "ABX9TyMeNZgzuFJHQW4yF1tM9K09"
    },
    "kernelspec": {
      "name": "python3",
      "display_name": "Python 3"
    },
    "language_info": {
      "name": "python"
    }
  },
  "cells": [
    {
      "cell_type": "markdown",
      "source": [
        "귀하가 속한 부서는 제주지역 물품 유통, 물류를 담당입니다.\n",
        "\n",
        "따라서 제주에서 발송하거나 제주로 입하하는 물류량을 파악하고 있습니다.\n",
        "\n",
        "최근 물류량이 급증하여 항구 노선이나 물류 창고 신설에 대한 의견이 나오고 있습니다.\n",
        "\n",
        "어떤 항구 노선을 추가하여 배편을 확보해야 하는지, 어떤 종류의 물류 창고를 신설해야 하는지 의사결정을 위한 데이터를 분석합니다.\n",
        "\n",
        "자금의 한계로 배편은 한 가지 노선만 추가할 수 있습니다.\n",
        "\n",
        "또 물류 창고는 한 가지 품목만 수용 가능하며 한 개만 신설할 예정입니다.\n",
        "\n",
        "마지막으로 많은 정보들로 물류량 예측이 가능하다면 차후 회사 규모를 키울 때 어떤 물류 창고를 확보해야 하는지 계획할 수 있습니다.\n",
        "\n",
        "제주에서 가장 많이 발송하는 물건의 종류는 수산이고, 인구가 많고 바다와 거리가 있는 내륙 지역인 서울에 창고를 신설해야 한다고 가설을 세우고 진행합니다."
      ],
      "metadata": {
        "id": "cOfBGOQvjL03"
      }
    },
    {
      "cell_type": "code",
      "source": [
        "!sudo apt-get install -y fonts-nanum\n",
        "!sudo fc-cache -fv\n",
        "!rm ~/.cache/matplotlib -rf"
      ],
      "metadata": {
        "id": "IaaYYV67xNHT"
      },
      "execution_count": null,
      "outputs": []
    },
    {
      "cell_type": "code",
      "source": [
        "import pandas as pd\n",
        "import numpy as np\n",
        "import matplotlib.pyplot as plt\n",
        "import seaborn as sns"
      ],
      "metadata": {
        "id": "VP4hodf11tG3"
      },
      "execution_count": 1,
      "outputs": []
    },
    {
      "cell_type": "code",
      "source": [
        "df = pd.read_csv('distribution.csv')"
      ],
      "metadata": {
        "id": "skUT0voI2AzZ"
      },
      "execution_count": 2,
      "outputs": []
    },
    {
      "cell_type": "code",
      "source": [
        "df.head()"
      ],
      "metadata": {
        "colab": {
          "base_uri": "https://localhost:8080/",
          "height": 206
        },
        "id": "7daCdcYi2QWa",
        "outputId": "54ef5940-644f-4b0d-ee14-be0e35948279"
      },
      "execution_count": 3,
      "outputs": [
        {
          "output_type": "execute_result",
          "data": {
            "text/plain": [
              "   index      송하인_격자공간고유번호      수하인_격자공간고유번호 물품_카테고리  운송장_건수\n",
              "0      0  5011000595017300  2871000192069300      음반       3\n",
              "1      1  4148000690043300  5011000264024400   문화컨텐츠       3\n",
              "2      2  5011000078068400  1120000007005400     농산물       3\n",
              "3      3  4127100048006400  5011000587019400    기타식품       7\n",
              "4      4  5011000078068400  2823700010076300     농산물       3"
            ],
            "text/html": [
              "\n",
              "  <div id=\"df-25422e0c-97e4-46d5-84f2-f9540f227886\">\n",
              "    <div class=\"colab-df-container\">\n",
              "      <div>\n",
              "<style scoped>\n",
              "    .dataframe tbody tr th:only-of-type {\n",
              "        vertical-align: middle;\n",
              "    }\n",
              "\n",
              "    .dataframe tbody tr th {\n",
              "        vertical-align: top;\n",
              "    }\n",
              "\n",
              "    .dataframe thead th {\n",
              "        text-align: right;\n",
              "    }\n",
              "</style>\n",
              "<table border=\"1\" class=\"dataframe\">\n",
              "  <thead>\n",
              "    <tr style=\"text-align: right;\">\n",
              "      <th></th>\n",
              "      <th>index</th>\n",
              "      <th>송하인_격자공간고유번호</th>\n",
              "      <th>수하인_격자공간고유번호</th>\n",
              "      <th>물품_카테고리</th>\n",
              "      <th>운송장_건수</th>\n",
              "    </tr>\n",
              "  </thead>\n",
              "  <tbody>\n",
              "    <tr>\n",
              "      <th>0</th>\n",
              "      <td>0</td>\n",
              "      <td>5011000595017300</td>\n",
              "      <td>2871000192069300</td>\n",
              "      <td>음반</td>\n",
              "      <td>3</td>\n",
              "    </tr>\n",
              "    <tr>\n",
              "      <th>1</th>\n",
              "      <td>1</td>\n",
              "      <td>4148000690043300</td>\n",
              "      <td>5011000264024400</td>\n",
              "      <td>문화컨텐츠</td>\n",
              "      <td>3</td>\n",
              "    </tr>\n",
              "    <tr>\n",
              "      <th>2</th>\n",
              "      <td>2</td>\n",
              "      <td>5011000078068400</td>\n",
              "      <td>1120000007005400</td>\n",
              "      <td>농산물</td>\n",
              "      <td>3</td>\n",
              "    </tr>\n",
              "    <tr>\n",
              "      <th>3</th>\n",
              "      <td>3</td>\n",
              "      <td>4127100048006400</td>\n",
              "      <td>5011000587019400</td>\n",
              "      <td>기타식품</td>\n",
              "      <td>7</td>\n",
              "    </tr>\n",
              "    <tr>\n",
              "      <th>4</th>\n",
              "      <td>4</td>\n",
              "      <td>5011000078068400</td>\n",
              "      <td>2823700010076300</td>\n",
              "      <td>농산물</td>\n",
              "      <td>3</td>\n",
              "    </tr>\n",
              "  </tbody>\n",
              "</table>\n",
              "</div>\n",
              "      <button class=\"colab-df-convert\" onclick=\"convertToInteractive('df-25422e0c-97e4-46d5-84f2-f9540f227886')\"\n",
              "              title=\"Convert this dataframe to an interactive table.\"\n",
              "              style=\"display:none;\">\n",
              "        \n",
              "  <svg xmlns=\"http://www.w3.org/2000/svg\" height=\"24px\"viewBox=\"0 0 24 24\"\n",
              "       width=\"24px\">\n",
              "    <path d=\"M0 0h24v24H0V0z\" fill=\"none\"/>\n",
              "    <path d=\"M18.56 5.44l.94 2.06.94-2.06 2.06-.94-2.06-.94-.94-2.06-.94 2.06-2.06.94zm-11 1L8.5 8.5l.94-2.06 2.06-.94-2.06-.94L8.5 2.5l-.94 2.06-2.06.94zm10 10l.94 2.06.94-2.06 2.06-.94-2.06-.94-.94-2.06-.94 2.06-2.06.94z\"/><path d=\"M17.41 7.96l-1.37-1.37c-.4-.4-.92-.59-1.43-.59-.52 0-1.04.2-1.43.59L10.3 9.45l-7.72 7.72c-.78.78-.78 2.05 0 2.83L4 21.41c.39.39.9.59 1.41.59.51 0 1.02-.2 1.41-.59l7.78-7.78 2.81-2.81c.8-.78.8-2.07 0-2.86zM5.41 20L4 18.59l7.72-7.72 1.47 1.35L5.41 20z\"/>\n",
              "  </svg>\n",
              "      </button>\n",
              "      \n",
              "  <style>\n",
              "    .colab-df-container {\n",
              "      display:flex;\n",
              "      flex-wrap:wrap;\n",
              "      gap: 12px;\n",
              "    }\n",
              "\n",
              "    .colab-df-convert {\n",
              "      background-color: #E8F0FE;\n",
              "      border: none;\n",
              "      border-radius: 50%;\n",
              "      cursor: pointer;\n",
              "      display: none;\n",
              "      fill: #1967D2;\n",
              "      height: 32px;\n",
              "      padding: 0 0 0 0;\n",
              "      width: 32px;\n",
              "    }\n",
              "\n",
              "    .colab-df-convert:hover {\n",
              "      background-color: #E2EBFA;\n",
              "      box-shadow: 0px 1px 2px rgba(60, 64, 67, 0.3), 0px 1px 3px 1px rgba(60, 64, 67, 0.15);\n",
              "      fill: #174EA6;\n",
              "    }\n",
              "\n",
              "    [theme=dark] .colab-df-convert {\n",
              "      background-color: #3B4455;\n",
              "      fill: #D2E3FC;\n",
              "    }\n",
              "\n",
              "    [theme=dark] .colab-df-convert:hover {\n",
              "      background-color: #434B5C;\n",
              "      box-shadow: 0px 1px 3px 1px rgba(0, 0, 0, 0.15);\n",
              "      filter: drop-shadow(0px 1px 2px rgba(0, 0, 0, 0.3));\n",
              "      fill: #FFFFFF;\n",
              "    }\n",
              "  </style>\n",
              "\n",
              "      <script>\n",
              "        const buttonEl =\n",
              "          document.querySelector('#df-25422e0c-97e4-46d5-84f2-f9540f227886 button.colab-df-convert');\n",
              "        buttonEl.style.display =\n",
              "          google.colab.kernel.accessAllowed ? 'block' : 'none';\n",
              "\n",
              "        async function convertToInteractive(key) {\n",
              "          const element = document.querySelector('#df-25422e0c-97e4-46d5-84f2-f9540f227886');\n",
              "          const dataTable =\n",
              "            await google.colab.kernel.invokeFunction('convertToInteractive',\n",
              "                                                     [key], {});\n",
              "          if (!dataTable) return;\n",
              "\n",
              "          const docLinkHtml = 'Like what you see? Visit the ' +\n",
              "            '<a target=\"_blank\" href=https://colab.research.google.com/notebooks/data_table.ipynb>data table notebook</a>'\n",
              "            + ' to learn more about interactive tables.';\n",
              "          element.innerHTML = '';\n",
              "          dataTable['output_type'] = 'display_data';\n",
              "          await google.colab.output.renderOutput(dataTable, element);\n",
              "          const docLink = document.createElement('div');\n",
              "          docLink.innerHTML = docLinkHtml;\n",
              "          element.appendChild(docLink);\n",
              "        }\n",
              "      </script>\n",
              "    </div>\n",
              "  </div>\n",
              "  "
            ]
          },
          "metadata": {},
          "execution_count": 3
        }
      ]
    },
    {
      "cell_type": "code",
      "source": [
        "df.shape"
      ],
      "metadata": {
        "colab": {
          "base_uri": "https://localhost:8080/"
        },
        "id": "vduMnyFy5z-3",
        "outputId": "e6b5dfa5-b89d-41ab-af60-4d0e64478be9"
      },
      "execution_count": 4,
      "outputs": [
        {
          "output_type": "execute_result",
          "data": {
            "text/plain": [
              "(31684, 5)"
            ]
          },
          "metadata": {},
          "execution_count": 4
        }
      ]
    },
    {
      "cell_type": "code",
      "source": [
        "df.info()"
      ],
      "metadata": {
        "colab": {
          "base_uri": "https://localhost:8080/"
        },
        "id": "OZg8k8t9rDrs",
        "outputId": "6a2353c0-cc7f-428e-9b19-ac082cbf7dc5"
      },
      "execution_count": 5,
      "outputs": [
        {
          "output_type": "stream",
          "name": "stdout",
          "text": [
            "<class 'pandas.core.frame.DataFrame'>\n",
            "RangeIndex: 31684 entries, 0 to 31683\n",
            "Data columns (total 5 columns):\n",
            " #   Column        Non-Null Count  Dtype \n",
            "---  ------        --------------  ----- \n",
            " 0   index         31684 non-null  int64 \n",
            " 1   송하인_격자공간고유번호  31684 non-null  int64 \n",
            " 2   수하인_격자공간고유번호  31684 non-null  int64 \n",
            " 3   물품_카테고리       31684 non-null  object\n",
            " 4   운송장_건수        31684 non-null  int64 \n",
            "dtypes: int64(4), object(1)\n",
            "memory usage: 1.2+ MB\n"
          ]
        }
      ]
    },
    {
      "cell_type": "code",
      "source": [
        "df.isnull().sum()"
      ],
      "metadata": {
        "colab": {
          "base_uri": "https://localhost:8080/"
        },
        "id": "VHCPZtxRImTZ",
        "outputId": "e2d55338-027d-405f-d92c-09f53d91a739"
      },
      "execution_count": 6,
      "outputs": [
        {
          "output_type": "execute_result",
          "data": {
            "text/plain": [
              "index           0\n",
              "송하인_격자공간고유번호    0\n",
              "수하인_격자공간고유번호    0\n",
              "물품_카테고리         0\n",
              "운송장_건수          0\n",
              "dtype: int64"
            ]
          },
          "metadata": {},
          "execution_count": 6
        }
      ]
    },
    {
      "cell_type": "code",
      "source": [
        "df.duplicated().sum()"
      ],
      "metadata": {
        "colab": {
          "base_uri": "https://localhost:8080/"
        },
        "id": "NVM3L09mIqQx",
        "outputId": "f0c6c1d1-8839-4cee-83ac-a770751fa49e"
      },
      "execution_count": 7,
      "outputs": [
        {
          "output_type": "execute_result",
          "data": {
            "text/plain": [
              "0"
            ]
          },
          "metadata": {},
          "execution_count": 7
        }
      ]
    },
    {
      "cell_type": "markdown",
      "source": [
        "df의 전체적인 모습을 살펴보았고 알맞는 데이터 타입으로 정리된 것을 볼 수 있습니다.\n",
        "\n",
        "그 후 불필요한 index 컬럼을 제외시킵니다."
      ],
      "metadata": {
        "id": "NbvXM-hur2cf"
      }
    },
    {
      "cell_type": "code",
      "source": [
        "df.drop(columns='index', inplace=True)"
      ],
      "metadata": {
        "id": "W1i90A23rE89"
      },
      "execution_count": 8,
      "outputs": []
    },
    {
      "cell_type": "code",
      "source": [
        "df.head()"
      ],
      "metadata": {
        "colab": {
          "base_uri": "https://localhost:8080/",
          "height": 206
        },
        "id": "pHCt03c3rOiJ",
        "outputId": "bf64d30f-9495-4674-bb3b-a67afad57e0d"
      },
      "execution_count": 9,
      "outputs": [
        {
          "output_type": "execute_result",
          "data": {
            "text/plain": [
              "       송하인_격자공간고유번호      수하인_격자공간고유번호 물품_카테고리  운송장_건수\n",
              "0  5011000595017300  2871000192069300      음반       3\n",
              "1  4148000690043300  5011000264024400   문화컨텐츠       3\n",
              "2  5011000078068400  1120000007005400     농산물       3\n",
              "3  4127100048006400  5011000587019400    기타식품       7\n",
              "4  5011000078068400  2823700010076300     농산물       3"
            ],
            "text/html": [
              "\n",
              "  <div id=\"df-ce950225-7867-4d15-8449-450cabdaaab4\">\n",
              "    <div class=\"colab-df-container\">\n",
              "      <div>\n",
              "<style scoped>\n",
              "    .dataframe tbody tr th:only-of-type {\n",
              "        vertical-align: middle;\n",
              "    }\n",
              "\n",
              "    .dataframe tbody tr th {\n",
              "        vertical-align: top;\n",
              "    }\n",
              "\n",
              "    .dataframe thead th {\n",
              "        text-align: right;\n",
              "    }\n",
              "</style>\n",
              "<table border=\"1\" class=\"dataframe\">\n",
              "  <thead>\n",
              "    <tr style=\"text-align: right;\">\n",
              "      <th></th>\n",
              "      <th>송하인_격자공간고유번호</th>\n",
              "      <th>수하인_격자공간고유번호</th>\n",
              "      <th>물품_카테고리</th>\n",
              "      <th>운송장_건수</th>\n",
              "    </tr>\n",
              "  </thead>\n",
              "  <tbody>\n",
              "    <tr>\n",
              "      <th>0</th>\n",
              "      <td>5011000595017300</td>\n",
              "      <td>2871000192069300</td>\n",
              "      <td>음반</td>\n",
              "      <td>3</td>\n",
              "    </tr>\n",
              "    <tr>\n",
              "      <th>1</th>\n",
              "      <td>4148000690043300</td>\n",
              "      <td>5011000264024400</td>\n",
              "      <td>문화컨텐츠</td>\n",
              "      <td>3</td>\n",
              "    </tr>\n",
              "    <tr>\n",
              "      <th>2</th>\n",
              "      <td>5011000078068400</td>\n",
              "      <td>1120000007005400</td>\n",
              "      <td>농산물</td>\n",
              "      <td>3</td>\n",
              "    </tr>\n",
              "    <tr>\n",
              "      <th>3</th>\n",
              "      <td>4127100048006400</td>\n",
              "      <td>5011000587019400</td>\n",
              "      <td>기타식품</td>\n",
              "      <td>7</td>\n",
              "    </tr>\n",
              "    <tr>\n",
              "      <th>4</th>\n",
              "      <td>5011000078068400</td>\n",
              "      <td>2823700010076300</td>\n",
              "      <td>농산물</td>\n",
              "      <td>3</td>\n",
              "    </tr>\n",
              "  </tbody>\n",
              "</table>\n",
              "</div>\n",
              "      <button class=\"colab-df-convert\" onclick=\"convertToInteractive('df-ce950225-7867-4d15-8449-450cabdaaab4')\"\n",
              "              title=\"Convert this dataframe to an interactive table.\"\n",
              "              style=\"display:none;\">\n",
              "        \n",
              "  <svg xmlns=\"http://www.w3.org/2000/svg\" height=\"24px\"viewBox=\"0 0 24 24\"\n",
              "       width=\"24px\">\n",
              "    <path d=\"M0 0h24v24H0V0z\" fill=\"none\"/>\n",
              "    <path d=\"M18.56 5.44l.94 2.06.94-2.06 2.06-.94-2.06-.94-.94-2.06-.94 2.06-2.06.94zm-11 1L8.5 8.5l.94-2.06 2.06-.94-2.06-.94L8.5 2.5l-.94 2.06-2.06.94zm10 10l.94 2.06.94-2.06 2.06-.94-2.06-.94-.94-2.06-.94 2.06-2.06.94z\"/><path d=\"M17.41 7.96l-1.37-1.37c-.4-.4-.92-.59-1.43-.59-.52 0-1.04.2-1.43.59L10.3 9.45l-7.72 7.72c-.78.78-.78 2.05 0 2.83L4 21.41c.39.39.9.59 1.41.59.51 0 1.02-.2 1.41-.59l7.78-7.78 2.81-2.81c.8-.78.8-2.07 0-2.86zM5.41 20L4 18.59l7.72-7.72 1.47 1.35L5.41 20z\"/>\n",
              "  </svg>\n",
              "      </button>\n",
              "      \n",
              "  <style>\n",
              "    .colab-df-container {\n",
              "      display:flex;\n",
              "      flex-wrap:wrap;\n",
              "      gap: 12px;\n",
              "    }\n",
              "\n",
              "    .colab-df-convert {\n",
              "      background-color: #E8F0FE;\n",
              "      border: none;\n",
              "      border-radius: 50%;\n",
              "      cursor: pointer;\n",
              "      display: none;\n",
              "      fill: #1967D2;\n",
              "      height: 32px;\n",
              "      padding: 0 0 0 0;\n",
              "      width: 32px;\n",
              "    }\n",
              "\n",
              "    .colab-df-convert:hover {\n",
              "      background-color: #E2EBFA;\n",
              "      box-shadow: 0px 1px 2px rgba(60, 64, 67, 0.3), 0px 1px 3px 1px rgba(60, 64, 67, 0.15);\n",
              "      fill: #174EA6;\n",
              "    }\n",
              "\n",
              "    [theme=dark] .colab-df-convert {\n",
              "      background-color: #3B4455;\n",
              "      fill: #D2E3FC;\n",
              "    }\n",
              "\n",
              "    [theme=dark] .colab-df-convert:hover {\n",
              "      background-color: #434B5C;\n",
              "      box-shadow: 0px 1px 3px 1px rgba(0, 0, 0, 0.15);\n",
              "      filter: drop-shadow(0px 1px 2px rgba(0, 0, 0, 0.3));\n",
              "      fill: #FFFFFF;\n",
              "    }\n",
              "  </style>\n",
              "\n",
              "      <script>\n",
              "        const buttonEl =\n",
              "          document.querySelector('#df-ce950225-7867-4d15-8449-450cabdaaab4 button.colab-df-convert');\n",
              "        buttonEl.style.display =\n",
              "          google.colab.kernel.accessAllowed ? 'block' : 'none';\n",
              "\n",
              "        async function convertToInteractive(key) {\n",
              "          const element = document.querySelector('#df-ce950225-7867-4d15-8449-450cabdaaab4');\n",
              "          const dataTable =\n",
              "            await google.colab.kernel.invokeFunction('convertToInteractive',\n",
              "                                                     [key], {});\n",
              "          if (!dataTable) return;\n",
              "\n",
              "          const docLinkHtml = 'Like what you see? Visit the ' +\n",
              "            '<a target=\"_blank\" href=https://colab.research.google.com/notebooks/data_table.ipynb>data table notebook</a>'\n",
              "            + ' to learn more about interactive tables.';\n",
              "          element.innerHTML = '';\n",
              "          dataTable['output_type'] = 'display_data';\n",
              "          await google.colab.output.renderOutput(dataTable, element);\n",
              "          const docLink = document.createElement('div');\n",
              "          docLink.innerHTML = docLinkHtml;\n",
              "          element.appendChild(docLink);\n",
              "        }\n",
              "      </script>\n",
              "    </div>\n",
              "  </div>\n",
              "  "
            ]
          },
          "metadata": {},
          "execution_count": 9
        }
      ]
    },
    {
      "cell_type": "markdown",
      "source": [
        "송하인, 수하인 격자공간고유번호의 unique를 살펴본 결과\n",
        "\n",
        "수하인이 송하인에 비해 약 6배 정도 많은 것을 볼 수 있습니다.\n",
        "\n",
        "당연하게도 판매점보다 주문자가 많아 생긴 결과입니다."
      ],
      "metadata": {
        "id": "Gh6zwmwpsN11"
      }
    },
    {
      "cell_type": "code",
      "source": [
        "df['송하인_격자공간고유번호'].nunique()"
      ],
      "metadata": {
        "colab": {
          "base_uri": "https://localhost:8080/"
        },
        "id": "Tn65oUOUrPWu",
        "outputId": "63a24872-b641-4f5f-e8f6-75cc9245dd77"
      },
      "execution_count": 10,
      "outputs": [
        {
          "output_type": "execute_result",
          "data": {
            "text/plain": [
              "4229"
            ]
          },
          "metadata": {},
          "execution_count": 10
        }
      ]
    },
    {
      "cell_type": "code",
      "source": [
        "df['수하인_격자공간고유번호'].nunique()"
      ],
      "metadata": {
        "colab": {
          "base_uri": "https://localhost:8080/"
        },
        "id": "Yw40pkFvriLW",
        "outputId": "4da7c5ab-43fa-46d6-8f82-70561b83cd2f"
      },
      "execution_count": 11,
      "outputs": [
        {
          "output_type": "execute_result",
          "data": {
            "text/plain": [
              "26875"
            ]
          },
          "metadata": {},
          "execution_count": 11
        }
      ]
    },
    {
      "cell_type": "markdown",
      "source": [
        "격자공간고유번호가 가진 의미를 찾기 위해 국토연구원 데이터 (국토도시 격자공간50미터)를 조사한 결과\n",
        "\n",
        "1~2 : 광역시도\n",
        "\n",
        "3~5 : 시군구\n",
        "\n",
        "6~8 : 읍면동\n",
        "\n",
        "9~10: 리\n",
        "\n",
        "11~ 16: 격자공간\n",
        "\n",
        "의미를 찾아내어 이것을 바탕으로 feature engineering을 진행합니다."
      ],
      "metadata": {
        "id": "6J0FChpzspFG"
      }
    },
    {
      "cell_type": "code",
      "source": [
        "df_1 = df.copy()"
      ],
      "metadata": {
        "id": "w8YvCipXrnyd"
      },
      "execution_count": 12,
      "outputs": []
    },
    {
      "cell_type": "code",
      "source": [
        "df_1 = df_1.astype({'송하인_격자공간고유번호':'str'})\n",
        "df_1 = df_1.astype({'수하인_격자공간고유번호':'str'})"
      ],
      "metadata": {
        "id": "rvZXKyRLvw-S"
      },
      "execution_count": 13,
      "outputs": []
    },
    {
      "cell_type": "code",
      "source": [
        "df_1['송하인_광역시도'] = df_1['송하인_격자공간고유번호'].str[0:2].astype(int)\n",
        "df_1['송하인_시군구'] = df_1['송하인_격자공간고유번호'].str[2:5].astype(int)\n",
        "df_1['송하인_읍면동'] = df_1['송하인_격자공간고유번호'].str[5:8].astype(int)\n",
        "df_1['송하인_리'] = df_1['송하인_격자공간고유번호'].str[8:10].astype(int)\n",
        "df_1['송하인_격자공간번호'] = df_1['송하인_격자공간고유번호'].str[10:16].astype(int)"
      ],
      "metadata": {
        "id": "F3sLggalv56f"
      },
      "execution_count": 14,
      "outputs": []
    },
    {
      "cell_type": "code",
      "source": [
        "df_1['수하인_광역시도'] = df_1['수하인_격자공간고유번호'].str[0:2].astype(int)\n",
        "df_1['수하인_시군구'] = df_1['수하인_격자공간고유번호'].str[2:5].astype(int)\n",
        "df_1['수하인_읍면동'] = df_1['수하인_격자공간고유번호'].str[5:8].astype(int)\n",
        "df_1['수하인_리'] = df_1['수하인_격자공간고유번호'].str[8:10].astype(int)\n",
        "df_1['수하인_격자공간번호'] = df_1['수하인_격자공간고유번호'].str[10:16].astype(int)"
      ],
      "metadata": {
        "id": "aFjoSwmaIUz0"
      },
      "execution_count": 15,
      "outputs": []
    },
    {
      "cell_type": "code",
      "source": [
        "df_1.info()"
      ],
      "metadata": {
        "colab": {
          "base_uri": "https://localhost:8080/"
        },
        "id": "OnfiIyoJv69P",
        "outputId": "2fc07c09-15e3-433f-e5fb-f131054637cd"
      },
      "execution_count": 16,
      "outputs": [
        {
          "output_type": "stream",
          "name": "stdout",
          "text": [
            "<class 'pandas.core.frame.DataFrame'>\n",
            "RangeIndex: 31684 entries, 0 to 31683\n",
            "Data columns (total 14 columns):\n",
            " #   Column        Non-Null Count  Dtype \n",
            "---  ------        --------------  ----- \n",
            " 0   송하인_격자공간고유번호  31684 non-null  object\n",
            " 1   수하인_격자공간고유번호  31684 non-null  object\n",
            " 2   물품_카테고리       31684 non-null  object\n",
            " 3   운송장_건수        31684 non-null  int64 \n",
            " 4   송하인_광역시도      31684 non-null  int64 \n",
            " 5   송하인_시군구       31684 non-null  int64 \n",
            " 6   송하인_읍면동       31684 non-null  int64 \n",
            " 7   송하인_리         31684 non-null  int64 \n",
            " 8   송하인_격자공간번호    31684 non-null  int64 \n",
            " 9   수하인_광역시도      31684 non-null  int64 \n",
            " 10  수하인_시군구       31684 non-null  int64 \n",
            " 11  수하인_읍면동       31684 non-null  int64 \n",
            " 12  수하인_리         31684 non-null  int64 \n",
            " 13  수하인_격자공간번호    31684 non-null  int64 \n",
            "dtypes: int64(11), object(3)\n",
            "memory usage: 3.4+ MB\n"
          ]
        }
      ]
    },
    {
      "cell_type": "code",
      "source": [
        "df_1"
      ],
      "metadata": {
        "colab": {
          "base_uri": "https://localhost:8080/",
          "height": 520
        },
        "id": "8d4rad1ywaHZ",
        "outputId": "38592ac0-5cee-49d1-b931-d16b94692890"
      },
      "execution_count": 17,
      "outputs": [
        {
          "output_type": "execute_result",
          "data": {
            "text/plain": [
              "           송하인_격자공간고유번호      수하인_격자공간고유번호  물품_카테고리  운송장_건수  송하인_광역시도  송하인_시군구  \\\n",
              "0      5011000595017300  2871000192069300       음반       3        50      110   \n",
              "1      4148000690043300  5011000264024400    문화컨텐츠       3        41      480   \n",
              "2      5011000078068400  1120000007005400      농산물       3        50      110   \n",
              "3      4127100048006400  5011000587019400     기타식품       7        41      271   \n",
              "4      5011000078068400  2823700010076300      농산물       3        50      110   \n",
              "...                 ...               ...      ...     ...       ...      ...   \n",
              "31679  4471000290087200  5011000213073200    스포츠잡화       3        44      710   \n",
              "31680  1129000014045300  5011000319087100  스마트디바이스       4        11      290   \n",
              "31681  1129000014045300  5011000263065200  스마트디바이스       6        11      290   \n",
              "31682  4127300065073100  5011000264061200       지갑       7        41      273   \n",
              "31683  2811000139076100  5011000520070100     세탁용품       4        28      110   \n",
              "\n",
              "       송하인_읍면동  송하인_리  송하인_격자공간번호  수하인_광역시도  수하인_시군구  수하인_읍면동  수하인_리  \\\n",
              "0            5     95       17300        28      710        1     92   \n",
              "1            6     90       43300        50      110        2     64   \n",
              "2            0     78       68400        11      200        0      7   \n",
              "3            0     48        6400        50      110        5     87   \n",
              "4            0     78       68400        28      237        0     10   \n",
              "...        ...    ...         ...       ...      ...      ...    ...   \n",
              "31679        2     90       87200        50      110        2     13   \n",
              "31680        0     14       45300        50      110        3     19   \n",
              "31681        0     14       45300        50      110        2     63   \n",
              "31682        0     65       73100        50      110        2     64   \n",
              "31683        1     39       76100        50      110        5     20   \n",
              "\n",
              "       수하인_격자공간번호  \n",
              "0           69300  \n",
              "1           24400  \n",
              "2            5400  \n",
              "3           19400  \n",
              "4           76300  \n",
              "...           ...  \n",
              "31679       73200  \n",
              "31680       87100  \n",
              "31681       65200  \n",
              "31682       61200  \n",
              "31683       70100  \n",
              "\n",
              "[31684 rows x 14 columns]"
            ],
            "text/html": [
              "\n",
              "  <div id=\"df-4f01771c-184c-4eaf-afb5-64124eba7325\">\n",
              "    <div class=\"colab-df-container\">\n",
              "      <div>\n",
              "<style scoped>\n",
              "    .dataframe tbody tr th:only-of-type {\n",
              "        vertical-align: middle;\n",
              "    }\n",
              "\n",
              "    .dataframe tbody tr th {\n",
              "        vertical-align: top;\n",
              "    }\n",
              "\n",
              "    .dataframe thead th {\n",
              "        text-align: right;\n",
              "    }\n",
              "</style>\n",
              "<table border=\"1\" class=\"dataframe\">\n",
              "  <thead>\n",
              "    <tr style=\"text-align: right;\">\n",
              "      <th></th>\n",
              "      <th>송하인_격자공간고유번호</th>\n",
              "      <th>수하인_격자공간고유번호</th>\n",
              "      <th>물품_카테고리</th>\n",
              "      <th>운송장_건수</th>\n",
              "      <th>송하인_광역시도</th>\n",
              "      <th>송하인_시군구</th>\n",
              "      <th>송하인_읍면동</th>\n",
              "      <th>송하인_리</th>\n",
              "      <th>송하인_격자공간번호</th>\n",
              "      <th>수하인_광역시도</th>\n",
              "      <th>수하인_시군구</th>\n",
              "      <th>수하인_읍면동</th>\n",
              "      <th>수하인_리</th>\n",
              "      <th>수하인_격자공간번호</th>\n",
              "    </tr>\n",
              "  </thead>\n",
              "  <tbody>\n",
              "    <tr>\n",
              "      <th>0</th>\n",
              "      <td>5011000595017300</td>\n",
              "      <td>2871000192069300</td>\n",
              "      <td>음반</td>\n",
              "      <td>3</td>\n",
              "      <td>50</td>\n",
              "      <td>110</td>\n",
              "      <td>5</td>\n",
              "      <td>95</td>\n",
              "      <td>17300</td>\n",
              "      <td>28</td>\n",
              "      <td>710</td>\n",
              "      <td>1</td>\n",
              "      <td>92</td>\n",
              "      <td>69300</td>\n",
              "    </tr>\n",
              "    <tr>\n",
              "      <th>1</th>\n",
              "      <td>4148000690043300</td>\n",
              "      <td>5011000264024400</td>\n",
              "      <td>문화컨텐츠</td>\n",
              "      <td>3</td>\n",
              "      <td>41</td>\n",
              "      <td>480</td>\n",
              "      <td>6</td>\n",
              "      <td>90</td>\n",
              "      <td>43300</td>\n",
              "      <td>50</td>\n",
              "      <td>110</td>\n",
              "      <td>2</td>\n",
              "      <td>64</td>\n",
              "      <td>24400</td>\n",
              "    </tr>\n",
              "    <tr>\n",
              "      <th>2</th>\n",
              "      <td>5011000078068400</td>\n",
              "      <td>1120000007005400</td>\n",
              "      <td>농산물</td>\n",
              "      <td>3</td>\n",
              "      <td>50</td>\n",
              "      <td>110</td>\n",
              "      <td>0</td>\n",
              "      <td>78</td>\n",
              "      <td>68400</td>\n",
              "      <td>11</td>\n",
              "      <td>200</td>\n",
              "      <td>0</td>\n",
              "      <td>7</td>\n",
              "      <td>5400</td>\n",
              "    </tr>\n",
              "    <tr>\n",
              "      <th>3</th>\n",
              "      <td>4127100048006400</td>\n",
              "      <td>5011000587019400</td>\n",
              "      <td>기타식품</td>\n",
              "      <td>7</td>\n",
              "      <td>41</td>\n",
              "      <td>271</td>\n",
              "      <td>0</td>\n",
              "      <td>48</td>\n",
              "      <td>6400</td>\n",
              "      <td>50</td>\n",
              "      <td>110</td>\n",
              "      <td>5</td>\n",
              "      <td>87</td>\n",
              "      <td>19400</td>\n",
              "    </tr>\n",
              "    <tr>\n",
              "      <th>4</th>\n",
              "      <td>5011000078068400</td>\n",
              "      <td>2823700010076300</td>\n",
              "      <td>농산물</td>\n",
              "      <td>3</td>\n",
              "      <td>50</td>\n",
              "      <td>110</td>\n",
              "      <td>0</td>\n",
              "      <td>78</td>\n",
              "      <td>68400</td>\n",
              "      <td>28</td>\n",
              "      <td>237</td>\n",
              "      <td>0</td>\n",
              "      <td>10</td>\n",
              "      <td>76300</td>\n",
              "    </tr>\n",
              "    <tr>\n",
              "      <th>...</th>\n",
              "      <td>...</td>\n",
              "      <td>...</td>\n",
              "      <td>...</td>\n",
              "      <td>...</td>\n",
              "      <td>...</td>\n",
              "      <td>...</td>\n",
              "      <td>...</td>\n",
              "      <td>...</td>\n",
              "      <td>...</td>\n",
              "      <td>...</td>\n",
              "      <td>...</td>\n",
              "      <td>...</td>\n",
              "      <td>...</td>\n",
              "      <td>...</td>\n",
              "    </tr>\n",
              "    <tr>\n",
              "      <th>31679</th>\n",
              "      <td>4471000290087200</td>\n",
              "      <td>5011000213073200</td>\n",
              "      <td>스포츠잡화</td>\n",
              "      <td>3</td>\n",
              "      <td>44</td>\n",
              "      <td>710</td>\n",
              "      <td>2</td>\n",
              "      <td>90</td>\n",
              "      <td>87200</td>\n",
              "      <td>50</td>\n",
              "      <td>110</td>\n",
              "      <td>2</td>\n",
              "      <td>13</td>\n",
              "      <td>73200</td>\n",
              "    </tr>\n",
              "    <tr>\n",
              "      <th>31680</th>\n",
              "      <td>1129000014045300</td>\n",
              "      <td>5011000319087100</td>\n",
              "      <td>스마트디바이스</td>\n",
              "      <td>4</td>\n",
              "      <td>11</td>\n",
              "      <td>290</td>\n",
              "      <td>0</td>\n",
              "      <td>14</td>\n",
              "      <td>45300</td>\n",
              "      <td>50</td>\n",
              "      <td>110</td>\n",
              "      <td>3</td>\n",
              "      <td>19</td>\n",
              "      <td>87100</td>\n",
              "    </tr>\n",
              "    <tr>\n",
              "      <th>31681</th>\n",
              "      <td>1129000014045300</td>\n",
              "      <td>5011000263065200</td>\n",
              "      <td>스마트디바이스</td>\n",
              "      <td>6</td>\n",
              "      <td>11</td>\n",
              "      <td>290</td>\n",
              "      <td>0</td>\n",
              "      <td>14</td>\n",
              "      <td>45300</td>\n",
              "      <td>50</td>\n",
              "      <td>110</td>\n",
              "      <td>2</td>\n",
              "      <td>63</td>\n",
              "      <td>65200</td>\n",
              "    </tr>\n",
              "    <tr>\n",
              "      <th>31682</th>\n",
              "      <td>4127300065073100</td>\n",
              "      <td>5011000264061200</td>\n",
              "      <td>지갑</td>\n",
              "      <td>7</td>\n",
              "      <td>41</td>\n",
              "      <td>273</td>\n",
              "      <td>0</td>\n",
              "      <td>65</td>\n",
              "      <td>73100</td>\n",
              "      <td>50</td>\n",
              "      <td>110</td>\n",
              "      <td>2</td>\n",
              "      <td>64</td>\n",
              "      <td>61200</td>\n",
              "    </tr>\n",
              "    <tr>\n",
              "      <th>31683</th>\n",
              "      <td>2811000139076100</td>\n",
              "      <td>5011000520070100</td>\n",
              "      <td>세탁용품</td>\n",
              "      <td>4</td>\n",
              "      <td>28</td>\n",
              "      <td>110</td>\n",
              "      <td>1</td>\n",
              "      <td>39</td>\n",
              "      <td>76100</td>\n",
              "      <td>50</td>\n",
              "      <td>110</td>\n",
              "      <td>5</td>\n",
              "      <td>20</td>\n",
              "      <td>70100</td>\n",
              "    </tr>\n",
              "  </tbody>\n",
              "</table>\n",
              "<p>31684 rows × 14 columns</p>\n",
              "</div>\n",
              "      <button class=\"colab-df-convert\" onclick=\"convertToInteractive('df-4f01771c-184c-4eaf-afb5-64124eba7325')\"\n",
              "              title=\"Convert this dataframe to an interactive table.\"\n",
              "              style=\"display:none;\">\n",
              "        \n",
              "  <svg xmlns=\"http://www.w3.org/2000/svg\" height=\"24px\"viewBox=\"0 0 24 24\"\n",
              "       width=\"24px\">\n",
              "    <path d=\"M0 0h24v24H0V0z\" fill=\"none\"/>\n",
              "    <path d=\"M18.56 5.44l.94 2.06.94-2.06 2.06-.94-2.06-.94-.94-2.06-.94 2.06-2.06.94zm-11 1L8.5 8.5l.94-2.06 2.06-.94-2.06-.94L8.5 2.5l-.94 2.06-2.06.94zm10 10l.94 2.06.94-2.06 2.06-.94-2.06-.94-.94-2.06-.94 2.06-2.06.94z\"/><path d=\"M17.41 7.96l-1.37-1.37c-.4-.4-.92-.59-1.43-.59-.52 0-1.04.2-1.43.59L10.3 9.45l-7.72 7.72c-.78.78-.78 2.05 0 2.83L4 21.41c.39.39.9.59 1.41.59.51 0 1.02-.2 1.41-.59l7.78-7.78 2.81-2.81c.8-.78.8-2.07 0-2.86zM5.41 20L4 18.59l7.72-7.72 1.47 1.35L5.41 20z\"/>\n",
              "  </svg>\n",
              "      </button>\n",
              "      \n",
              "  <style>\n",
              "    .colab-df-container {\n",
              "      display:flex;\n",
              "      flex-wrap:wrap;\n",
              "      gap: 12px;\n",
              "    }\n",
              "\n",
              "    .colab-df-convert {\n",
              "      background-color: #E8F0FE;\n",
              "      border: none;\n",
              "      border-radius: 50%;\n",
              "      cursor: pointer;\n",
              "      display: none;\n",
              "      fill: #1967D2;\n",
              "      height: 32px;\n",
              "      padding: 0 0 0 0;\n",
              "      width: 32px;\n",
              "    }\n",
              "\n",
              "    .colab-df-convert:hover {\n",
              "      background-color: #E2EBFA;\n",
              "      box-shadow: 0px 1px 2px rgba(60, 64, 67, 0.3), 0px 1px 3px 1px rgba(60, 64, 67, 0.15);\n",
              "      fill: #174EA6;\n",
              "    }\n",
              "\n",
              "    [theme=dark] .colab-df-convert {\n",
              "      background-color: #3B4455;\n",
              "      fill: #D2E3FC;\n",
              "    }\n",
              "\n",
              "    [theme=dark] .colab-df-convert:hover {\n",
              "      background-color: #434B5C;\n",
              "      box-shadow: 0px 1px 3px 1px rgba(0, 0, 0, 0.15);\n",
              "      filter: drop-shadow(0px 1px 2px rgba(0, 0, 0, 0.3));\n",
              "      fill: #FFFFFF;\n",
              "    }\n",
              "  </style>\n",
              "\n",
              "      <script>\n",
              "        const buttonEl =\n",
              "          document.querySelector('#df-4f01771c-184c-4eaf-afb5-64124eba7325 button.colab-df-convert');\n",
              "        buttonEl.style.display =\n",
              "          google.colab.kernel.accessAllowed ? 'block' : 'none';\n",
              "\n",
              "        async function convertToInteractive(key) {\n",
              "          const element = document.querySelector('#df-4f01771c-184c-4eaf-afb5-64124eba7325');\n",
              "          const dataTable =\n",
              "            await google.colab.kernel.invokeFunction('convertToInteractive',\n",
              "                                                     [key], {});\n",
              "          if (!dataTable) return;\n",
              "\n",
              "          const docLinkHtml = 'Like what you see? Visit the ' +\n",
              "            '<a target=\"_blank\" href=https://colab.research.google.com/notebooks/data_table.ipynb>data table notebook</a>'\n",
              "            + ' to learn more about interactive tables.';\n",
              "          element.innerHTML = '';\n",
              "          dataTable['output_type'] = 'display_data';\n",
              "          await google.colab.output.renderOutput(dataTable, element);\n",
              "          const docLink = document.createElement('div');\n",
              "          docLink.innerHTML = docLinkHtml;\n",
              "          element.appendChild(docLink);\n",
              "        }\n",
              "      </script>\n",
              "    </div>\n",
              "  </div>\n",
              "  "
            ]
          },
          "metadata": {},
          "execution_count": 17
        }
      ]
    },
    {
      "cell_type": "code",
      "source": [
        "df_1.drop(columns=['송하인_격자공간고유번호', '수하인_격자공간고유번호'], inplace=True)"
      ],
      "metadata": {
        "id": "4XWUJIwwyFDY"
      },
      "execution_count": 18,
      "outputs": []
    },
    {
      "cell_type": "code",
      "source": [
        "df_1['송하인_광역시도_이름'] = np.nan\n",
        "df_1['수하인_광역시도_이름'] = np.nan"
      ],
      "metadata": {
        "id": "jKuhNpiFKhns"
      },
      "execution_count": 19,
      "outputs": []
    },
    {
      "cell_type": "code",
      "source": [
        "df_1"
      ],
      "metadata": {
        "colab": {
          "base_uri": "https://localhost:8080/",
          "height": 520
        },
        "id": "KW1eTHkeJK9_",
        "outputId": "25ae0d8e-5d27-4d74-bf9b-0006f6aedd2a"
      },
      "execution_count": 20,
      "outputs": [
        {
          "output_type": "execute_result",
          "data": {
            "text/plain": [
              "       물품_카테고리  운송장_건수  송하인_광역시도  송하인_시군구  송하인_읍면동  송하인_리  송하인_격자공간번호  \\\n",
              "0           음반       3        50      110        5     95       17300   \n",
              "1        문화컨텐츠       3        41      480        6     90       43300   \n",
              "2          농산물       3        50      110        0     78       68400   \n",
              "3         기타식품       7        41      271        0     48        6400   \n",
              "4          농산물       3        50      110        0     78       68400   \n",
              "...        ...     ...       ...      ...      ...    ...         ...   \n",
              "31679    스포츠잡화       3        44      710        2     90       87200   \n",
              "31680  스마트디바이스       4        11      290        0     14       45300   \n",
              "31681  스마트디바이스       6        11      290        0     14       45300   \n",
              "31682       지갑       7        41      273        0     65       73100   \n",
              "31683     세탁용품       4        28      110        1     39       76100   \n",
              "\n",
              "       수하인_광역시도  수하인_시군구  수하인_읍면동  수하인_리  수하인_격자공간번호  송하인_광역시도_이름  수하인_광역시도_이름  \n",
              "0            28      710        1     92       69300          NaN          NaN  \n",
              "1            50      110        2     64       24400          NaN          NaN  \n",
              "2            11      200        0      7        5400          NaN          NaN  \n",
              "3            50      110        5     87       19400          NaN          NaN  \n",
              "4            28      237        0     10       76300          NaN          NaN  \n",
              "...         ...      ...      ...    ...         ...          ...          ...  \n",
              "31679        50      110        2     13       73200          NaN          NaN  \n",
              "31680        50      110        3     19       87100          NaN          NaN  \n",
              "31681        50      110        2     63       65200          NaN          NaN  \n",
              "31682        50      110        2     64       61200          NaN          NaN  \n",
              "31683        50      110        5     20       70100          NaN          NaN  \n",
              "\n",
              "[31684 rows x 14 columns]"
            ],
            "text/html": [
              "\n",
              "  <div id=\"df-19df28cf-5ad1-47c6-9a25-74653596521d\">\n",
              "    <div class=\"colab-df-container\">\n",
              "      <div>\n",
              "<style scoped>\n",
              "    .dataframe tbody tr th:only-of-type {\n",
              "        vertical-align: middle;\n",
              "    }\n",
              "\n",
              "    .dataframe tbody tr th {\n",
              "        vertical-align: top;\n",
              "    }\n",
              "\n",
              "    .dataframe thead th {\n",
              "        text-align: right;\n",
              "    }\n",
              "</style>\n",
              "<table border=\"1\" class=\"dataframe\">\n",
              "  <thead>\n",
              "    <tr style=\"text-align: right;\">\n",
              "      <th></th>\n",
              "      <th>물품_카테고리</th>\n",
              "      <th>운송장_건수</th>\n",
              "      <th>송하인_광역시도</th>\n",
              "      <th>송하인_시군구</th>\n",
              "      <th>송하인_읍면동</th>\n",
              "      <th>송하인_리</th>\n",
              "      <th>송하인_격자공간번호</th>\n",
              "      <th>수하인_광역시도</th>\n",
              "      <th>수하인_시군구</th>\n",
              "      <th>수하인_읍면동</th>\n",
              "      <th>수하인_리</th>\n",
              "      <th>수하인_격자공간번호</th>\n",
              "      <th>송하인_광역시도_이름</th>\n",
              "      <th>수하인_광역시도_이름</th>\n",
              "    </tr>\n",
              "  </thead>\n",
              "  <tbody>\n",
              "    <tr>\n",
              "      <th>0</th>\n",
              "      <td>음반</td>\n",
              "      <td>3</td>\n",
              "      <td>50</td>\n",
              "      <td>110</td>\n",
              "      <td>5</td>\n",
              "      <td>95</td>\n",
              "      <td>17300</td>\n",
              "      <td>28</td>\n",
              "      <td>710</td>\n",
              "      <td>1</td>\n",
              "      <td>92</td>\n",
              "      <td>69300</td>\n",
              "      <td>NaN</td>\n",
              "      <td>NaN</td>\n",
              "    </tr>\n",
              "    <tr>\n",
              "      <th>1</th>\n",
              "      <td>문화컨텐츠</td>\n",
              "      <td>3</td>\n",
              "      <td>41</td>\n",
              "      <td>480</td>\n",
              "      <td>6</td>\n",
              "      <td>90</td>\n",
              "      <td>43300</td>\n",
              "      <td>50</td>\n",
              "      <td>110</td>\n",
              "      <td>2</td>\n",
              "      <td>64</td>\n",
              "      <td>24400</td>\n",
              "      <td>NaN</td>\n",
              "      <td>NaN</td>\n",
              "    </tr>\n",
              "    <tr>\n",
              "      <th>2</th>\n",
              "      <td>농산물</td>\n",
              "      <td>3</td>\n",
              "      <td>50</td>\n",
              "      <td>110</td>\n",
              "      <td>0</td>\n",
              "      <td>78</td>\n",
              "      <td>68400</td>\n",
              "      <td>11</td>\n",
              "      <td>200</td>\n",
              "      <td>0</td>\n",
              "      <td>7</td>\n",
              "      <td>5400</td>\n",
              "      <td>NaN</td>\n",
              "      <td>NaN</td>\n",
              "    </tr>\n",
              "    <tr>\n",
              "      <th>3</th>\n",
              "      <td>기타식품</td>\n",
              "      <td>7</td>\n",
              "      <td>41</td>\n",
              "      <td>271</td>\n",
              "      <td>0</td>\n",
              "      <td>48</td>\n",
              "      <td>6400</td>\n",
              "      <td>50</td>\n",
              "      <td>110</td>\n",
              "      <td>5</td>\n",
              "      <td>87</td>\n",
              "      <td>19400</td>\n",
              "      <td>NaN</td>\n",
              "      <td>NaN</td>\n",
              "    </tr>\n",
              "    <tr>\n",
              "      <th>4</th>\n",
              "      <td>농산물</td>\n",
              "      <td>3</td>\n",
              "      <td>50</td>\n",
              "      <td>110</td>\n",
              "      <td>0</td>\n",
              "      <td>78</td>\n",
              "      <td>68400</td>\n",
              "      <td>28</td>\n",
              "      <td>237</td>\n",
              "      <td>0</td>\n",
              "      <td>10</td>\n",
              "      <td>76300</td>\n",
              "      <td>NaN</td>\n",
              "      <td>NaN</td>\n",
              "    </tr>\n",
              "    <tr>\n",
              "      <th>...</th>\n",
              "      <td>...</td>\n",
              "      <td>...</td>\n",
              "      <td>...</td>\n",
              "      <td>...</td>\n",
              "      <td>...</td>\n",
              "      <td>...</td>\n",
              "      <td>...</td>\n",
              "      <td>...</td>\n",
              "      <td>...</td>\n",
              "      <td>...</td>\n",
              "      <td>...</td>\n",
              "      <td>...</td>\n",
              "      <td>...</td>\n",
              "      <td>...</td>\n",
              "    </tr>\n",
              "    <tr>\n",
              "      <th>31679</th>\n",
              "      <td>스포츠잡화</td>\n",
              "      <td>3</td>\n",
              "      <td>44</td>\n",
              "      <td>710</td>\n",
              "      <td>2</td>\n",
              "      <td>90</td>\n",
              "      <td>87200</td>\n",
              "      <td>50</td>\n",
              "      <td>110</td>\n",
              "      <td>2</td>\n",
              "      <td>13</td>\n",
              "      <td>73200</td>\n",
              "      <td>NaN</td>\n",
              "      <td>NaN</td>\n",
              "    </tr>\n",
              "    <tr>\n",
              "      <th>31680</th>\n",
              "      <td>스마트디바이스</td>\n",
              "      <td>4</td>\n",
              "      <td>11</td>\n",
              "      <td>290</td>\n",
              "      <td>0</td>\n",
              "      <td>14</td>\n",
              "      <td>45300</td>\n",
              "      <td>50</td>\n",
              "      <td>110</td>\n",
              "      <td>3</td>\n",
              "      <td>19</td>\n",
              "      <td>87100</td>\n",
              "      <td>NaN</td>\n",
              "      <td>NaN</td>\n",
              "    </tr>\n",
              "    <tr>\n",
              "      <th>31681</th>\n",
              "      <td>스마트디바이스</td>\n",
              "      <td>6</td>\n",
              "      <td>11</td>\n",
              "      <td>290</td>\n",
              "      <td>0</td>\n",
              "      <td>14</td>\n",
              "      <td>45300</td>\n",
              "      <td>50</td>\n",
              "      <td>110</td>\n",
              "      <td>2</td>\n",
              "      <td>63</td>\n",
              "      <td>65200</td>\n",
              "      <td>NaN</td>\n",
              "      <td>NaN</td>\n",
              "    </tr>\n",
              "    <tr>\n",
              "      <th>31682</th>\n",
              "      <td>지갑</td>\n",
              "      <td>7</td>\n",
              "      <td>41</td>\n",
              "      <td>273</td>\n",
              "      <td>0</td>\n",
              "      <td>65</td>\n",
              "      <td>73100</td>\n",
              "      <td>50</td>\n",
              "      <td>110</td>\n",
              "      <td>2</td>\n",
              "      <td>64</td>\n",
              "      <td>61200</td>\n",
              "      <td>NaN</td>\n",
              "      <td>NaN</td>\n",
              "    </tr>\n",
              "    <tr>\n",
              "      <th>31683</th>\n",
              "      <td>세탁용품</td>\n",
              "      <td>4</td>\n",
              "      <td>28</td>\n",
              "      <td>110</td>\n",
              "      <td>1</td>\n",
              "      <td>39</td>\n",
              "      <td>76100</td>\n",
              "      <td>50</td>\n",
              "      <td>110</td>\n",
              "      <td>5</td>\n",
              "      <td>20</td>\n",
              "      <td>70100</td>\n",
              "      <td>NaN</td>\n",
              "      <td>NaN</td>\n",
              "    </tr>\n",
              "  </tbody>\n",
              "</table>\n",
              "<p>31684 rows × 14 columns</p>\n",
              "</div>\n",
              "      <button class=\"colab-df-convert\" onclick=\"convertToInteractive('df-19df28cf-5ad1-47c6-9a25-74653596521d')\"\n",
              "              title=\"Convert this dataframe to an interactive table.\"\n",
              "              style=\"display:none;\">\n",
              "        \n",
              "  <svg xmlns=\"http://www.w3.org/2000/svg\" height=\"24px\"viewBox=\"0 0 24 24\"\n",
              "       width=\"24px\">\n",
              "    <path d=\"M0 0h24v24H0V0z\" fill=\"none\"/>\n",
              "    <path d=\"M18.56 5.44l.94 2.06.94-2.06 2.06-.94-2.06-.94-.94-2.06-.94 2.06-2.06.94zm-11 1L8.5 8.5l.94-2.06 2.06-.94-2.06-.94L8.5 2.5l-.94 2.06-2.06.94zm10 10l.94 2.06.94-2.06 2.06-.94-2.06-.94-.94-2.06-.94 2.06-2.06.94z\"/><path d=\"M17.41 7.96l-1.37-1.37c-.4-.4-.92-.59-1.43-.59-.52 0-1.04.2-1.43.59L10.3 9.45l-7.72 7.72c-.78.78-.78 2.05 0 2.83L4 21.41c.39.39.9.59 1.41.59.51 0 1.02-.2 1.41-.59l7.78-7.78 2.81-2.81c.8-.78.8-2.07 0-2.86zM5.41 20L4 18.59l7.72-7.72 1.47 1.35L5.41 20z\"/>\n",
              "  </svg>\n",
              "      </button>\n",
              "      \n",
              "  <style>\n",
              "    .colab-df-container {\n",
              "      display:flex;\n",
              "      flex-wrap:wrap;\n",
              "      gap: 12px;\n",
              "    }\n",
              "\n",
              "    .colab-df-convert {\n",
              "      background-color: #E8F0FE;\n",
              "      border: none;\n",
              "      border-radius: 50%;\n",
              "      cursor: pointer;\n",
              "      display: none;\n",
              "      fill: #1967D2;\n",
              "      height: 32px;\n",
              "      padding: 0 0 0 0;\n",
              "      width: 32px;\n",
              "    }\n",
              "\n",
              "    .colab-df-convert:hover {\n",
              "      background-color: #E2EBFA;\n",
              "      box-shadow: 0px 1px 2px rgba(60, 64, 67, 0.3), 0px 1px 3px 1px rgba(60, 64, 67, 0.15);\n",
              "      fill: #174EA6;\n",
              "    }\n",
              "\n",
              "    [theme=dark] .colab-df-convert {\n",
              "      background-color: #3B4455;\n",
              "      fill: #D2E3FC;\n",
              "    }\n",
              "\n",
              "    [theme=dark] .colab-df-convert:hover {\n",
              "      background-color: #434B5C;\n",
              "      box-shadow: 0px 1px 3px 1px rgba(0, 0, 0, 0.15);\n",
              "      filter: drop-shadow(0px 1px 2px rgba(0, 0, 0, 0.3));\n",
              "      fill: #FFFFFF;\n",
              "    }\n",
              "  </style>\n",
              "\n",
              "      <script>\n",
              "        const buttonEl =\n",
              "          document.querySelector('#df-19df28cf-5ad1-47c6-9a25-74653596521d button.colab-df-convert');\n",
              "        buttonEl.style.display =\n",
              "          google.colab.kernel.accessAllowed ? 'block' : 'none';\n",
              "\n",
              "        async function convertToInteractive(key) {\n",
              "          const element = document.querySelector('#df-19df28cf-5ad1-47c6-9a25-74653596521d');\n",
              "          const dataTable =\n",
              "            await google.colab.kernel.invokeFunction('convertToInteractive',\n",
              "                                                     [key], {});\n",
              "          if (!dataTable) return;\n",
              "\n",
              "          const docLinkHtml = 'Like what you see? Visit the ' +\n",
              "            '<a target=\"_blank\" href=https://colab.research.google.com/notebooks/data_table.ipynb>data table notebook</a>'\n",
              "            + ' to learn more about interactive tables.';\n",
              "          element.innerHTML = '';\n",
              "          dataTable['output_type'] = 'display_data';\n",
              "          await google.colab.output.renderOutput(dataTable, element);\n",
              "          const docLink = document.createElement('div');\n",
              "          docLink.innerHTML = docLinkHtml;\n",
              "          element.appendChild(docLink);\n",
              "        }\n",
              "      </script>\n",
              "    </div>\n",
              "  </div>\n",
              "  "
            ]
          },
          "metadata": {},
          "execution_count": 20
        }
      ]
    },
    {
      "cell_type": "code",
      "source": [
        "for i in range(len(df_1)):\n",
        "  if df_1['송하인_광역시도'][i] == 11:\n",
        "    df_1['송하인_광역시도_이름'][i] = '서울'\n",
        "  elif df_1['송하인_광역시도'][i] == 26:\n",
        "    df_1['송하인_광역시도_이름'][i] = '부산'\n",
        "  elif df_1['송하인_광역시도'][i] == 27:\n",
        "    df_1['송하인_광역시도_이름'][i] = '대구'\n",
        "  elif df_1['송하인_광역시도'][i] == 28:\n",
        "    df_1['송하인_광역시도_이름'][i] = '인천'\n",
        "  elif df_1['송하인_광역시도'][i] == 29:\n",
        "    df_1['송하인_광역시도_이름'][i] = '광주'\n",
        "  elif df_1['송하인_광역시도'][i] == 30:\n",
        "    df_1['송하인_광역시도_이름'][i] = '대전'\n",
        "  elif df_1['송하인_광역시도'][i] == 31:\n",
        "    df_1['송하인_광역시도_이름'][i] = '울산'\n",
        "  elif df_1['송하인_광역시도'][i] == 36:\n",
        "    df_1['송하인_광역시도_이름'][i] = '세종'\n",
        "  elif df_1['송하인_광역시도'][i] == 41:\n",
        "    df_1['송하인_광역시도_이름'][i] = '경기'\n",
        "  elif df_1['송하인_광역시도'][i] == 42:\n",
        "    df_1['송하인_광역시도_이름'][i] = '강원'\n",
        "  elif df_1['송하인_광역시도'][i] == 43:\n",
        "    df_1['송하인_광역시도_이름'][i] = '충북'\n",
        "  elif df_1['송하인_광역시도'][i] == 44:\n",
        "    df_1['송하인_광역시도_이름'][i] = '충남'\n",
        "  elif df_1['송하인_광역시도'][i] == 45:\n",
        "    df_1['송하인_광역시도_이름'][i] = '전북'\n",
        "  elif df_1['송하인_광역시도'][i] == 46:\n",
        "    df_1['송하인_광역시도_이름'][i] = '전남'\n",
        "  elif df_1['송하인_광역시도'][i] == 47:\n",
        "    df_1['송하인_광역시도_이름'][i] = '경북'\n",
        "  elif df_1['송하인_광역시도'][i] == 48:\n",
        "    df_1['송하인_광역시도_이름'][i] = '경남'\n",
        "  elif df_1['송하인_광역시도'][i] == 50:\n",
        "    df_1['송하인_광역시도_이름'][i] = '제주'"
      ],
      "metadata": {
        "colab": {
          "base_uri": "https://localhost:8080/"
        },
        "id": "W__S2gMUJLsO",
        "outputId": "16dd9fd1-0ac6-48e1-f639-a2d77401871c"
      },
      "execution_count": 21,
      "outputs": [
        {
          "output_type": "stream",
          "name": "stderr",
          "text": [
            "/usr/local/lib/python3.7/dist-packages/ipykernel_launcher.py:35: SettingWithCopyWarning: \n",
            "A value is trying to be set on a copy of a slice from a DataFrame\n",
            "\n",
            "See the caveats in the documentation: https://pandas.pydata.org/pandas-docs/stable/user_guide/indexing.html#returning-a-view-versus-a-copy\n",
            "/usr/local/lib/python3.7/dist-packages/pandas/core/indexing.py:1732: SettingWithCopyWarning: \n",
            "A value is trying to be set on a copy of a slice from a DataFrame\n",
            "\n",
            "See the caveats in the documentation: https://pandas.pydata.org/pandas-docs/stable/user_guide/indexing.html#returning-a-view-versus-a-copy\n",
            "  self._setitem_single_block(indexer, value, name)\n"
          ]
        }
      ]
    },
    {
      "cell_type": "code",
      "source": [
        "for i in range(len(df_1)):\n",
        "  if df_1['수하인_광역시도'][i] == 11:\n",
        "    df_1['수하인_광역시도_이름'][i] = '서울'\n",
        "  elif df_1['수하인_광역시도'][i] == 26:\n",
        "    df_1['수하인_광역시도_이름'][i] = '부산'\n",
        "  elif df_1['수하인_광역시도'][i] == 27:\n",
        "    df_1['수하인_광역시도_이름'][i] = '대구'\n",
        "  elif df_1['수하인_광역시도'][i] == 28:\n",
        "    df_1['수하인_광역시도_이름'][i] = '인천'\n",
        "  elif df_1['수하인_광역시도'][i] == 29:\n",
        "    df_1['수하인_광역시도_이름'][i] = '광주'\n",
        "  elif df_1['수하인_광역시도'][i] == 30:\n",
        "    df_1['수하인_광역시도_이름'][i] = '대전'\n",
        "  elif df_1['수하인_광역시도'][i] == 31:\n",
        "    df_1['수하인_광역시도_이름'][i] = '울산'\n",
        "  elif df_1['수하인_광역시도'][i] == 36:\n",
        "    df_1['수하인_광역시도_이름'][i] = '세종'\n",
        "  elif df_1['수하인_광역시도'][i] == 41:\n",
        "    df_1['수하인_광역시도_이름'][i] = '경기'\n",
        "  elif df_1['수하인_광역시도'][i] == 42:\n",
        "    df_1['수하인_광역시도_이름'][i] = '강원'\n",
        "  elif df_1['수하인_광역시도'][i] == 43:\n",
        "    df_1['수하인_광역시도_이름'][i] = '충북'\n",
        "  elif df_1['수하인_광역시도'][i] == 44:\n",
        "    df_1['수하인_광역시도_이름'][i] = '충남'\n",
        "  elif df_1['수하인_광역시도'][i] == 45:\n",
        "    df_1['수하인_광역시도_이름'][i] = '전북'\n",
        "  elif df_1['수하인_광역시도'][i] == 46:\n",
        "    df_1['수하인_광역시도_이름'][i] = '전남'\n",
        "  elif df_1['수하인_광역시도'][i] == 47:\n",
        "    df_1['수하인_광역시도_이름'][i] = '경북'\n",
        "  elif df_1['수하인_광역시도'][i] == 48:\n",
        "    df_1['수하인_광역시도_이름'][i] = '경남'\n",
        "  elif df_1['수하인_광역시도'][i] == 50:\n",
        "    df_1['수하인_광역시도_이름'][i] = '제주'"
      ],
      "metadata": {
        "colab": {
          "base_uri": "https://localhost:8080/"
        },
        "id": "SetingUoLMEI",
        "outputId": "3dc04169-7209-4f02-fae5-74bdf7a71a8d"
      },
      "execution_count": 22,
      "outputs": [
        {
          "output_type": "stream",
          "name": "stderr",
          "text": [
            "/usr/local/lib/python3.7/dist-packages/ipykernel_launcher.py:9: SettingWithCopyWarning: \n",
            "A value is trying to be set on a copy of a slice from a DataFrame\n",
            "\n",
            "See the caveats in the documentation: https://pandas.pydata.org/pandas-docs/stable/user_guide/indexing.html#returning-a-view-versus-a-copy\n",
            "  if __name__ == '__main__':\n"
          ]
        }
      ]
    },
    {
      "cell_type": "code",
      "source": [
        "df_1"
      ],
      "metadata": {
        "colab": {
          "base_uri": "https://localhost:8080/",
          "height": 520
        },
        "id": "f_OpBc84K_CZ",
        "outputId": "87339dfc-69d1-4be1-9886-13b1265140c9"
      },
      "execution_count": 23,
      "outputs": [
        {
          "output_type": "execute_result",
          "data": {
            "text/plain": [
              "       물품_카테고리  운송장_건수  송하인_광역시도  송하인_시군구  송하인_읍면동  송하인_리  송하인_격자공간번호  \\\n",
              "0           음반       3        50      110        5     95       17300   \n",
              "1        문화컨텐츠       3        41      480        6     90       43300   \n",
              "2          농산물       3        50      110        0     78       68400   \n",
              "3         기타식품       7        41      271        0     48        6400   \n",
              "4          농산물       3        50      110        0     78       68400   \n",
              "...        ...     ...       ...      ...      ...    ...         ...   \n",
              "31679    스포츠잡화       3        44      710        2     90       87200   \n",
              "31680  스마트디바이스       4        11      290        0     14       45300   \n",
              "31681  스마트디바이스       6        11      290        0     14       45300   \n",
              "31682       지갑       7        41      273        0     65       73100   \n",
              "31683     세탁용품       4        28      110        1     39       76100   \n",
              "\n",
              "       수하인_광역시도  수하인_시군구  수하인_읍면동  수하인_리  수하인_격자공간번호 송하인_광역시도_이름 수하인_광역시도_이름  \n",
              "0            28      710        1     92       69300          제주          인천  \n",
              "1            50      110        2     64       24400          경기          제주  \n",
              "2            11      200        0      7        5400          제주          서울  \n",
              "3            50      110        5     87       19400          경기          제주  \n",
              "4            28      237        0     10       76300          제주          인천  \n",
              "...         ...      ...      ...    ...         ...         ...         ...  \n",
              "31679        50      110        2     13       73200          충남          제주  \n",
              "31680        50      110        3     19       87100          서울          제주  \n",
              "31681        50      110        2     63       65200          서울          제주  \n",
              "31682        50      110        2     64       61200          경기          제주  \n",
              "31683        50      110        5     20       70100          인천          제주  \n",
              "\n",
              "[31684 rows x 14 columns]"
            ],
            "text/html": [
              "\n",
              "  <div id=\"df-461ffc5b-7138-4075-9dc7-f578defb2ec6\">\n",
              "    <div class=\"colab-df-container\">\n",
              "      <div>\n",
              "<style scoped>\n",
              "    .dataframe tbody tr th:only-of-type {\n",
              "        vertical-align: middle;\n",
              "    }\n",
              "\n",
              "    .dataframe tbody tr th {\n",
              "        vertical-align: top;\n",
              "    }\n",
              "\n",
              "    .dataframe thead th {\n",
              "        text-align: right;\n",
              "    }\n",
              "</style>\n",
              "<table border=\"1\" class=\"dataframe\">\n",
              "  <thead>\n",
              "    <tr style=\"text-align: right;\">\n",
              "      <th></th>\n",
              "      <th>물품_카테고리</th>\n",
              "      <th>운송장_건수</th>\n",
              "      <th>송하인_광역시도</th>\n",
              "      <th>송하인_시군구</th>\n",
              "      <th>송하인_읍면동</th>\n",
              "      <th>송하인_리</th>\n",
              "      <th>송하인_격자공간번호</th>\n",
              "      <th>수하인_광역시도</th>\n",
              "      <th>수하인_시군구</th>\n",
              "      <th>수하인_읍면동</th>\n",
              "      <th>수하인_리</th>\n",
              "      <th>수하인_격자공간번호</th>\n",
              "      <th>송하인_광역시도_이름</th>\n",
              "      <th>수하인_광역시도_이름</th>\n",
              "    </tr>\n",
              "  </thead>\n",
              "  <tbody>\n",
              "    <tr>\n",
              "      <th>0</th>\n",
              "      <td>음반</td>\n",
              "      <td>3</td>\n",
              "      <td>50</td>\n",
              "      <td>110</td>\n",
              "      <td>5</td>\n",
              "      <td>95</td>\n",
              "      <td>17300</td>\n",
              "      <td>28</td>\n",
              "      <td>710</td>\n",
              "      <td>1</td>\n",
              "      <td>92</td>\n",
              "      <td>69300</td>\n",
              "      <td>제주</td>\n",
              "      <td>인천</td>\n",
              "    </tr>\n",
              "    <tr>\n",
              "      <th>1</th>\n",
              "      <td>문화컨텐츠</td>\n",
              "      <td>3</td>\n",
              "      <td>41</td>\n",
              "      <td>480</td>\n",
              "      <td>6</td>\n",
              "      <td>90</td>\n",
              "      <td>43300</td>\n",
              "      <td>50</td>\n",
              "      <td>110</td>\n",
              "      <td>2</td>\n",
              "      <td>64</td>\n",
              "      <td>24400</td>\n",
              "      <td>경기</td>\n",
              "      <td>제주</td>\n",
              "    </tr>\n",
              "    <tr>\n",
              "      <th>2</th>\n",
              "      <td>농산물</td>\n",
              "      <td>3</td>\n",
              "      <td>50</td>\n",
              "      <td>110</td>\n",
              "      <td>0</td>\n",
              "      <td>78</td>\n",
              "      <td>68400</td>\n",
              "      <td>11</td>\n",
              "      <td>200</td>\n",
              "      <td>0</td>\n",
              "      <td>7</td>\n",
              "      <td>5400</td>\n",
              "      <td>제주</td>\n",
              "      <td>서울</td>\n",
              "    </tr>\n",
              "    <tr>\n",
              "      <th>3</th>\n",
              "      <td>기타식품</td>\n",
              "      <td>7</td>\n",
              "      <td>41</td>\n",
              "      <td>271</td>\n",
              "      <td>0</td>\n",
              "      <td>48</td>\n",
              "      <td>6400</td>\n",
              "      <td>50</td>\n",
              "      <td>110</td>\n",
              "      <td>5</td>\n",
              "      <td>87</td>\n",
              "      <td>19400</td>\n",
              "      <td>경기</td>\n",
              "      <td>제주</td>\n",
              "    </tr>\n",
              "    <tr>\n",
              "      <th>4</th>\n",
              "      <td>농산물</td>\n",
              "      <td>3</td>\n",
              "      <td>50</td>\n",
              "      <td>110</td>\n",
              "      <td>0</td>\n",
              "      <td>78</td>\n",
              "      <td>68400</td>\n",
              "      <td>28</td>\n",
              "      <td>237</td>\n",
              "      <td>0</td>\n",
              "      <td>10</td>\n",
              "      <td>76300</td>\n",
              "      <td>제주</td>\n",
              "      <td>인천</td>\n",
              "    </tr>\n",
              "    <tr>\n",
              "      <th>...</th>\n",
              "      <td>...</td>\n",
              "      <td>...</td>\n",
              "      <td>...</td>\n",
              "      <td>...</td>\n",
              "      <td>...</td>\n",
              "      <td>...</td>\n",
              "      <td>...</td>\n",
              "      <td>...</td>\n",
              "      <td>...</td>\n",
              "      <td>...</td>\n",
              "      <td>...</td>\n",
              "      <td>...</td>\n",
              "      <td>...</td>\n",
              "      <td>...</td>\n",
              "    </tr>\n",
              "    <tr>\n",
              "      <th>31679</th>\n",
              "      <td>스포츠잡화</td>\n",
              "      <td>3</td>\n",
              "      <td>44</td>\n",
              "      <td>710</td>\n",
              "      <td>2</td>\n",
              "      <td>90</td>\n",
              "      <td>87200</td>\n",
              "      <td>50</td>\n",
              "      <td>110</td>\n",
              "      <td>2</td>\n",
              "      <td>13</td>\n",
              "      <td>73200</td>\n",
              "      <td>충남</td>\n",
              "      <td>제주</td>\n",
              "    </tr>\n",
              "    <tr>\n",
              "      <th>31680</th>\n",
              "      <td>스마트디바이스</td>\n",
              "      <td>4</td>\n",
              "      <td>11</td>\n",
              "      <td>290</td>\n",
              "      <td>0</td>\n",
              "      <td>14</td>\n",
              "      <td>45300</td>\n",
              "      <td>50</td>\n",
              "      <td>110</td>\n",
              "      <td>3</td>\n",
              "      <td>19</td>\n",
              "      <td>87100</td>\n",
              "      <td>서울</td>\n",
              "      <td>제주</td>\n",
              "    </tr>\n",
              "    <tr>\n",
              "      <th>31681</th>\n",
              "      <td>스마트디바이스</td>\n",
              "      <td>6</td>\n",
              "      <td>11</td>\n",
              "      <td>290</td>\n",
              "      <td>0</td>\n",
              "      <td>14</td>\n",
              "      <td>45300</td>\n",
              "      <td>50</td>\n",
              "      <td>110</td>\n",
              "      <td>2</td>\n",
              "      <td>63</td>\n",
              "      <td>65200</td>\n",
              "      <td>서울</td>\n",
              "      <td>제주</td>\n",
              "    </tr>\n",
              "    <tr>\n",
              "      <th>31682</th>\n",
              "      <td>지갑</td>\n",
              "      <td>7</td>\n",
              "      <td>41</td>\n",
              "      <td>273</td>\n",
              "      <td>0</td>\n",
              "      <td>65</td>\n",
              "      <td>73100</td>\n",
              "      <td>50</td>\n",
              "      <td>110</td>\n",
              "      <td>2</td>\n",
              "      <td>64</td>\n",
              "      <td>61200</td>\n",
              "      <td>경기</td>\n",
              "      <td>제주</td>\n",
              "    </tr>\n",
              "    <tr>\n",
              "      <th>31683</th>\n",
              "      <td>세탁용품</td>\n",
              "      <td>4</td>\n",
              "      <td>28</td>\n",
              "      <td>110</td>\n",
              "      <td>1</td>\n",
              "      <td>39</td>\n",
              "      <td>76100</td>\n",
              "      <td>50</td>\n",
              "      <td>110</td>\n",
              "      <td>5</td>\n",
              "      <td>20</td>\n",
              "      <td>70100</td>\n",
              "      <td>인천</td>\n",
              "      <td>제주</td>\n",
              "    </tr>\n",
              "  </tbody>\n",
              "</table>\n",
              "<p>31684 rows × 14 columns</p>\n",
              "</div>\n",
              "      <button class=\"colab-df-convert\" onclick=\"convertToInteractive('df-461ffc5b-7138-4075-9dc7-f578defb2ec6')\"\n",
              "              title=\"Convert this dataframe to an interactive table.\"\n",
              "              style=\"display:none;\">\n",
              "        \n",
              "  <svg xmlns=\"http://www.w3.org/2000/svg\" height=\"24px\"viewBox=\"0 0 24 24\"\n",
              "       width=\"24px\">\n",
              "    <path d=\"M0 0h24v24H0V0z\" fill=\"none\"/>\n",
              "    <path d=\"M18.56 5.44l.94 2.06.94-2.06 2.06-.94-2.06-.94-.94-2.06-.94 2.06-2.06.94zm-11 1L8.5 8.5l.94-2.06 2.06-.94-2.06-.94L8.5 2.5l-.94 2.06-2.06.94zm10 10l.94 2.06.94-2.06 2.06-.94-2.06-.94-.94-2.06-.94 2.06-2.06.94z\"/><path d=\"M17.41 7.96l-1.37-1.37c-.4-.4-.92-.59-1.43-.59-.52 0-1.04.2-1.43.59L10.3 9.45l-7.72 7.72c-.78.78-.78 2.05 0 2.83L4 21.41c.39.39.9.59 1.41.59.51 0 1.02-.2 1.41-.59l7.78-7.78 2.81-2.81c.8-.78.8-2.07 0-2.86zM5.41 20L4 18.59l7.72-7.72 1.47 1.35L5.41 20z\"/>\n",
              "  </svg>\n",
              "      </button>\n",
              "      \n",
              "  <style>\n",
              "    .colab-df-container {\n",
              "      display:flex;\n",
              "      flex-wrap:wrap;\n",
              "      gap: 12px;\n",
              "    }\n",
              "\n",
              "    .colab-df-convert {\n",
              "      background-color: #E8F0FE;\n",
              "      border: none;\n",
              "      border-radius: 50%;\n",
              "      cursor: pointer;\n",
              "      display: none;\n",
              "      fill: #1967D2;\n",
              "      height: 32px;\n",
              "      padding: 0 0 0 0;\n",
              "      width: 32px;\n",
              "    }\n",
              "\n",
              "    .colab-df-convert:hover {\n",
              "      background-color: #E2EBFA;\n",
              "      box-shadow: 0px 1px 2px rgba(60, 64, 67, 0.3), 0px 1px 3px 1px rgba(60, 64, 67, 0.15);\n",
              "      fill: #174EA6;\n",
              "    }\n",
              "\n",
              "    [theme=dark] .colab-df-convert {\n",
              "      background-color: #3B4455;\n",
              "      fill: #D2E3FC;\n",
              "    }\n",
              "\n",
              "    [theme=dark] .colab-df-convert:hover {\n",
              "      background-color: #434B5C;\n",
              "      box-shadow: 0px 1px 3px 1px rgba(0, 0, 0, 0.15);\n",
              "      filter: drop-shadow(0px 1px 2px rgba(0, 0, 0, 0.3));\n",
              "      fill: #FFFFFF;\n",
              "    }\n",
              "  </style>\n",
              "\n",
              "      <script>\n",
              "        const buttonEl =\n",
              "          document.querySelector('#df-461ffc5b-7138-4075-9dc7-f578defb2ec6 button.colab-df-convert');\n",
              "        buttonEl.style.display =\n",
              "          google.colab.kernel.accessAllowed ? 'block' : 'none';\n",
              "\n",
              "        async function convertToInteractive(key) {\n",
              "          const element = document.querySelector('#df-461ffc5b-7138-4075-9dc7-f578defb2ec6');\n",
              "          const dataTable =\n",
              "            await google.colab.kernel.invokeFunction('convertToInteractive',\n",
              "                                                     [key], {});\n",
              "          if (!dataTable) return;\n",
              "\n",
              "          const docLinkHtml = 'Like what you see? Visit the ' +\n",
              "            '<a target=\"_blank\" href=https://colab.research.google.com/notebooks/data_table.ipynb>data table notebook</a>'\n",
              "            + ' to learn more about interactive tables.';\n",
              "          element.innerHTML = '';\n",
              "          dataTable['output_type'] = 'display_data';\n",
              "          await google.colab.output.renderOutput(dataTable, element);\n",
              "          const docLink = document.createElement('div');\n",
              "          docLink.innerHTML = docLinkHtml;\n",
              "          element.appendChild(docLink);\n",
              "        }\n",
              "      </script>\n",
              "    </div>\n",
              "  </div>\n",
              "  "
            ]
          },
          "metadata": {},
          "execution_count": 23
        }
      ]
    },
    {
      "cell_type": "markdown",
      "source": [
        "격자공간고유번호를 의미에 맞게 세분화 진행했습니다.\n",
        "\n",
        "그 후 기존에 있던 격자공간고유번호를 제거합니다.\n",
        "\n",
        "광역시도별 송,수하 지역을 보기 위해 지역 이름 컬럼을 생성합니다."
      ],
      "metadata": {
        "id": "1DHc-BM_LyWo"
      }
    },
    {
      "cell_type": "code",
      "source": [
        "#100가지 물품 카테고리를 확인할 수 있다.\n",
        "df_1['물품_카테고리'].unique()"
      ],
      "metadata": {
        "colab": {
          "base_uri": "https://localhost:8080/"
        },
        "id": "dffIwWKrK_kH",
        "outputId": "cf6c989a-8fd9-4c02-c31b-5b599d05cc29"
      },
      "execution_count": 24,
      "outputs": [
        {
          "output_type": "execute_result",
          "data": {
            "text/plain": [
              "array(['음반', '문화컨텐츠', '농산물', '기타식품', '수산', '아우터', '신발', '건강식품', '음료',\n",
              "       '가공식품', '스킨케어', '축산', '헤어케어', '기저귀/물티슈', '의료용품', '기타디지털/가전', '상의',\n",
              "       '건강용품', '바디케어', '기타스포츠/레저', '출산/유아동의류', '반려동물', '완구/매트', '과자',\n",
              "       '생활용품', '하의', '문구/사무용품', '선케어', '다이어트식품', '기타패션의류', '냉동/간편조리식품',\n",
              "       '네일케어', '서재/사무용가구', '선글라스/안경테', '기타화장품/미용', '등산', '모니터', '주방용품',\n",
              "       '색조메이크업', '침구세트', '침구단품', '인테리어소품', '양말/스타킹', '클렌징', '공구', '이미용가전',\n",
              "       'PC', '커튼/블라인드', '헤어스타일링', '주방가구', 'DIY자재/용품', '헤어액세서리', '김치',\n",
              "       '위생/건강용품', '침실가구', '가방', '주방가전', '낚시', '재활운동용품', '자동차용품', '뷰티소품',\n",
              "       '주얼리', '골프', 'PC주변기기', '수납/정리용품', '음향가전', '잠옷', '패션소품', '언더웨어',\n",
              "       '원피스/점프슈트', '스포츠잡화', '수납가구', '취미용품', '아웃도어가구', '계절가전', '홈데코', '캠핑',\n",
              "       '남성화장품', '분유/이유식/아기간식', '베이스메이크업', '헬스', '향수', '모자', '카페트/러그',\n",
              "       '구강위생용품', '눈관리용품', '기타출산/육아', '기타패션잡화', '기능성', '반찬', '욕실용품',\n",
              "       '스마트디바이스액세서리', '게임기/타이틀', '생활가전', '유아가구', '출산/유아동잡화', '세탁용품',\n",
              "       '태블릿PC/노트북액세서리', '스마트디바이스', '지갑'], dtype=object)"
            ]
          },
          "metadata": {},
          "execution_count": 24
        }
      ]
    },
    {
      "cell_type": "code",
      "source": [
        "#pd.set_option('display.max_rows', None)"
      ],
      "metadata": {
        "id": "gt111o8Ca8y3"
      },
      "execution_count": 27,
      "outputs": []
    },
    {
      "cell_type": "code",
      "source": [
        "plt.rcParams['axes.unicode_minus'] = False"
      ],
      "metadata": {
        "id": "vUL17twPryIO"
      },
      "execution_count": 48,
      "outputs": []
    },
    {
      "cell_type": "code",
      "source": [
        "plt.rc('font', family='NanumBarunGothic') "
      ],
      "metadata": {
        "id": "6Em3H4bpuDCT"
      },
      "execution_count": 25,
      "outputs": []
    },
    {
      "cell_type": "code",
      "source": [
        "# 어느 물품 카테고리가 많은 운송량을 차지하는지 알아본다.\n",
        "df_ct = df_1.groupby('물품_카테고리')['운송장_건수'].sum().sort_values(ascending=False).head(10)\n",
        "df_ct"
      ],
      "metadata": {
        "colab": {
          "base_uri": "https://localhost:8080/"
        },
        "id": "TeJKytx1WAO7",
        "outputId": "e7c5fd3a-c2c0-40d6-9594-2a9c303d878d"
      },
      "execution_count": 26,
      "outputs": [
        {
          "output_type": "execute_result",
          "data": {
            "text/plain": [
              "물품_카테고리\n",
              "농산물       87829\n",
              "음료         5890\n",
              "가공식품       5766\n",
              "문화컨텐츠      5429\n",
              "수산         4880\n",
              "기타식품       4250\n",
              "건강식품       3413\n",
              "축산         3385\n",
              "기타패션의류     3042\n",
              "음반         2357\n",
              "Name: 운송장_건수, dtype: int64"
            ]
          },
          "metadata": {},
          "execution_count": 26
        }
      ]
    },
    {
      "cell_type": "code",
      "source": [
        "df_ct = pd.DataFrame(df_ct).reset_index()\n",
        "df_ct"
      ],
      "metadata": {
        "colab": {
          "base_uri": "https://localhost:8080/",
          "height": 363
        },
        "id": "pO4CSSLuspRf",
        "outputId": "03a25f62-b442-4e10-f817-e46f1e8ddd34"
      },
      "execution_count": 27,
      "outputs": [
        {
          "output_type": "execute_result",
          "data": {
            "text/plain": [
              "  물품_카테고리  운송장_건수\n",
              "0     농산물   87829\n",
              "1      음료    5890\n",
              "2    가공식품    5766\n",
              "3   문화컨텐츠    5429\n",
              "4      수산    4880\n",
              "5    기타식품    4250\n",
              "6    건강식품    3413\n",
              "7      축산    3385\n",
              "8  기타패션의류    3042\n",
              "9      음반    2357"
            ],
            "text/html": [
              "\n",
              "  <div id=\"df-1441f722-a4b5-4eb7-860d-b9c6326c0e64\">\n",
              "    <div class=\"colab-df-container\">\n",
              "      <div>\n",
              "<style scoped>\n",
              "    .dataframe tbody tr th:only-of-type {\n",
              "        vertical-align: middle;\n",
              "    }\n",
              "\n",
              "    .dataframe tbody tr th {\n",
              "        vertical-align: top;\n",
              "    }\n",
              "\n",
              "    .dataframe thead th {\n",
              "        text-align: right;\n",
              "    }\n",
              "</style>\n",
              "<table border=\"1\" class=\"dataframe\">\n",
              "  <thead>\n",
              "    <tr style=\"text-align: right;\">\n",
              "      <th></th>\n",
              "      <th>물품_카테고리</th>\n",
              "      <th>운송장_건수</th>\n",
              "    </tr>\n",
              "  </thead>\n",
              "  <tbody>\n",
              "    <tr>\n",
              "      <th>0</th>\n",
              "      <td>농산물</td>\n",
              "      <td>87829</td>\n",
              "    </tr>\n",
              "    <tr>\n",
              "      <th>1</th>\n",
              "      <td>음료</td>\n",
              "      <td>5890</td>\n",
              "    </tr>\n",
              "    <tr>\n",
              "      <th>2</th>\n",
              "      <td>가공식품</td>\n",
              "      <td>5766</td>\n",
              "    </tr>\n",
              "    <tr>\n",
              "      <th>3</th>\n",
              "      <td>문화컨텐츠</td>\n",
              "      <td>5429</td>\n",
              "    </tr>\n",
              "    <tr>\n",
              "      <th>4</th>\n",
              "      <td>수산</td>\n",
              "      <td>4880</td>\n",
              "    </tr>\n",
              "    <tr>\n",
              "      <th>5</th>\n",
              "      <td>기타식품</td>\n",
              "      <td>4250</td>\n",
              "    </tr>\n",
              "    <tr>\n",
              "      <th>6</th>\n",
              "      <td>건강식품</td>\n",
              "      <td>3413</td>\n",
              "    </tr>\n",
              "    <tr>\n",
              "      <th>7</th>\n",
              "      <td>축산</td>\n",
              "      <td>3385</td>\n",
              "    </tr>\n",
              "    <tr>\n",
              "      <th>8</th>\n",
              "      <td>기타패션의류</td>\n",
              "      <td>3042</td>\n",
              "    </tr>\n",
              "    <tr>\n",
              "      <th>9</th>\n",
              "      <td>음반</td>\n",
              "      <td>2357</td>\n",
              "    </tr>\n",
              "  </tbody>\n",
              "</table>\n",
              "</div>\n",
              "      <button class=\"colab-df-convert\" onclick=\"convertToInteractive('df-1441f722-a4b5-4eb7-860d-b9c6326c0e64')\"\n",
              "              title=\"Convert this dataframe to an interactive table.\"\n",
              "              style=\"display:none;\">\n",
              "        \n",
              "  <svg xmlns=\"http://www.w3.org/2000/svg\" height=\"24px\"viewBox=\"0 0 24 24\"\n",
              "       width=\"24px\">\n",
              "    <path d=\"M0 0h24v24H0V0z\" fill=\"none\"/>\n",
              "    <path d=\"M18.56 5.44l.94 2.06.94-2.06 2.06-.94-2.06-.94-.94-2.06-.94 2.06-2.06.94zm-11 1L8.5 8.5l.94-2.06 2.06-.94-2.06-.94L8.5 2.5l-.94 2.06-2.06.94zm10 10l.94 2.06.94-2.06 2.06-.94-2.06-.94-.94-2.06-.94 2.06-2.06.94z\"/><path d=\"M17.41 7.96l-1.37-1.37c-.4-.4-.92-.59-1.43-.59-.52 0-1.04.2-1.43.59L10.3 9.45l-7.72 7.72c-.78.78-.78 2.05 0 2.83L4 21.41c.39.39.9.59 1.41.59.51 0 1.02-.2 1.41-.59l7.78-7.78 2.81-2.81c.8-.78.8-2.07 0-2.86zM5.41 20L4 18.59l7.72-7.72 1.47 1.35L5.41 20z\"/>\n",
              "  </svg>\n",
              "      </button>\n",
              "      \n",
              "  <style>\n",
              "    .colab-df-container {\n",
              "      display:flex;\n",
              "      flex-wrap:wrap;\n",
              "      gap: 12px;\n",
              "    }\n",
              "\n",
              "    .colab-df-convert {\n",
              "      background-color: #E8F0FE;\n",
              "      border: none;\n",
              "      border-radius: 50%;\n",
              "      cursor: pointer;\n",
              "      display: none;\n",
              "      fill: #1967D2;\n",
              "      height: 32px;\n",
              "      padding: 0 0 0 0;\n",
              "      width: 32px;\n",
              "    }\n",
              "\n",
              "    .colab-df-convert:hover {\n",
              "      background-color: #E2EBFA;\n",
              "      box-shadow: 0px 1px 2px rgba(60, 64, 67, 0.3), 0px 1px 3px 1px rgba(60, 64, 67, 0.15);\n",
              "      fill: #174EA6;\n",
              "    }\n",
              "\n",
              "    [theme=dark] .colab-df-convert {\n",
              "      background-color: #3B4455;\n",
              "      fill: #D2E3FC;\n",
              "    }\n",
              "\n",
              "    [theme=dark] .colab-df-convert:hover {\n",
              "      background-color: #434B5C;\n",
              "      box-shadow: 0px 1px 3px 1px rgba(0, 0, 0, 0.15);\n",
              "      filter: drop-shadow(0px 1px 2px rgba(0, 0, 0, 0.3));\n",
              "      fill: #FFFFFF;\n",
              "    }\n",
              "  </style>\n",
              "\n",
              "      <script>\n",
              "        const buttonEl =\n",
              "          document.querySelector('#df-1441f722-a4b5-4eb7-860d-b9c6326c0e64 button.colab-df-convert');\n",
              "        buttonEl.style.display =\n",
              "          google.colab.kernel.accessAllowed ? 'block' : 'none';\n",
              "\n",
              "        async function convertToInteractive(key) {\n",
              "          const element = document.querySelector('#df-1441f722-a4b5-4eb7-860d-b9c6326c0e64');\n",
              "          const dataTable =\n",
              "            await google.colab.kernel.invokeFunction('convertToInteractive',\n",
              "                                                     [key], {});\n",
              "          if (!dataTable) return;\n",
              "\n",
              "          const docLinkHtml = 'Like what you see? Visit the ' +\n",
              "            '<a target=\"_blank\" href=https://colab.research.google.com/notebooks/data_table.ipynb>data table notebook</a>'\n",
              "            + ' to learn more about interactive tables.';\n",
              "          element.innerHTML = '';\n",
              "          dataTable['output_type'] = 'display_data';\n",
              "          await google.colab.output.renderOutput(dataTable, element);\n",
              "          const docLink = document.createElement('div');\n",
              "          docLink.innerHTML = docLinkHtml;\n",
              "          element.appendChild(docLink);\n",
              "        }\n",
              "      </script>\n",
              "    </div>\n",
              "  </div>\n",
              "  "
            ]
          },
          "metadata": {},
          "execution_count": 27
        }
      ]
    },
    {
      "cell_type": "code",
      "source": [
        "plt.figure(figsize=(20, 5))\n",
        "df_ct.plot(kind='bar',x='물품_카테고리',y='운송장_건수');"
      ],
      "metadata": {
        "colab": {
          "base_uri": "https://localhost:8080/",
          "height": 341
        },
        "id": "SFusXVvUrzU2",
        "outputId": "01fe6cff-ccbe-498a-a18e-fa7f4a8edde8"
      },
      "execution_count": 29,
      "outputs": [
        {
          "output_type": "display_data",
          "data": {
            "text/plain": [
              "<Figure size 1440x360 with 0 Axes>"
            ]
          },
          "metadata": {}
        },
        {
          "output_type": "display_data",
          "data": {
            "text/plain": [
              "<Figure size 432x288 with 1 Axes>"
            ],
            "image/png": "[encoded data removed]"
          },
          "metadata": {
            "needs_background": "light"
          }
        }
      ]
    },
    {
      "cell_type": "code",
      "source": [
        "#제주에서 나가는 농산물이 약 98%를 차지합니다.\n",
        "#따라서 어디로 가는지 파악하고 그에 맞는 운송 루트와 창고 신설 계획을 수립합니다.\n",
        "df_1[(df_1['송하인_광역시도_이름'] == '제주') & (df_1['물품_카테고리'] == '농산물')]['운송장_건수'].sum()"
      ],
      "metadata": {
        "colab": {
          "base_uri": "https://localhost:8080/"
        },
        "id": "8_LwlpknfITb",
        "outputId": "7ec871d9-4c99-488d-edb5-1ca1b5ff6fdb"
      },
      "execution_count": 28,
      "outputs": [
        {
          "output_type": "execute_result",
          "data": {
            "text/plain": [
              "85874"
            ]
          },
          "metadata": {},
          "execution_count": 28
        }
      ]
    },
    {
      "cell_type": "code",
      "source": [
        "#경기, 서울 지역에 운송량이 밀집 되어있음을 확인할 수 있습니다.\n",
        "#따라서 부산, 목포와 같은 경상, 전라와 같은 항구를 이용하기 보단 인천항 루트를 늘리는 것이 유리합니다.\n",
        "#또한 경기, 서울 지역에 농산물 물류 창고를 신설하는 것이 우선적이라고 판단합니다.\n",
        "df_ct2 = df_1[(df_1['송하인_광역시도_이름'] == '제주') & (df_1['물품_카테고리'] == '농산물')].groupby('수하인_광역시도_이름')['운송장_건수'].sum()\n",
        "df_ct2 = pd.DataFrame(df_ct2).reset_index()\n",
        "df_ct2"
      ],
      "metadata": {
        "colab": {
          "base_uri": "https://localhost:8080/",
          "height": 582
        },
        "id": "lQtcTpwYgh_Q",
        "outputId": "52e43181-18f5-4d18-84c3-22b9be7bde27"
      },
      "execution_count": 33,
      "outputs": [
        {
          "output_type": "execute_result",
          "data": {
            "text/plain": [
              "   수하인_광역시도_이름  운송장_건수\n",
              "0           강원    3129\n",
              "1           경기   23682\n",
              "2           경남    5284\n",
              "3           경북    4292\n",
              "4           광주    2201\n",
              "5           대구    2883\n",
              "6           대전    2381\n",
              "7           부산    5350\n",
              "8           서울   15306\n",
              "9           세종     517\n",
              "10          울산    2010\n",
              "11          인천    4693\n",
              "12          전남    3325\n",
              "13          전북    3358\n",
              "14          제주     292\n",
              "15          충남    4563\n",
              "16          충북    2608"
            ],
            "text/html": [
              "\n",
              "  <div id=\"df-e916f65f-d272-4497-975a-fbfc505ceb9a\">\n",
              "    <div class=\"colab-df-container\">\n",
              "      <div>\n",
              "<style scoped>\n",
              "    .dataframe tbody tr th:only-of-type {\n",
              "        vertical-align: middle;\n",
              "    }\n",
              "\n",
              "    .dataframe tbody tr th {\n",
              "        vertical-align: top;\n",
              "    }\n",
              "\n",
              "    .dataframe thead th {\n",
              "        text-align: right;\n",
              "    }\n",
              "</style>\n",
              "<table border=\"1\" class=\"dataframe\">\n",
              "  <thead>\n",
              "    <tr style=\"text-align: right;\">\n",
              "      <th></th>\n",
              "      <th>수하인_광역시도_이름</th>\n",
              "      <th>운송장_건수</th>\n",
              "    </tr>\n",
              "  </thead>\n",
              "  <tbody>\n",
              "    <tr>\n",
              "      <th>0</th>\n",
              "      <td>강원</td>\n",
              "      <td>3129</td>\n",
              "    </tr>\n",
              "    <tr>\n",
              "      <th>1</th>\n",
              "      <td>경기</td>\n",
              "      <td>23682</td>\n",
              "    </tr>\n",
              "    <tr>\n",
              "      <th>2</th>\n",
              "      <td>경남</td>\n",
              "      <td>5284</td>\n",
              "    </tr>\n",
              "    <tr>\n",
              "      <th>3</th>\n",
              "      <td>경북</td>\n",
              "      <td>4292</td>\n",
              "    </tr>\n",
              "    <tr>\n",
              "      <th>4</th>\n",
              "      <td>광주</td>\n",
              "      <td>2201</td>\n",
              "    </tr>\n",
              "    <tr>\n",
              "      <th>5</th>\n",
              "      <td>대구</td>\n",
              "      <td>2883</td>\n",
              "    </tr>\n",
              "    <tr>\n",
              "      <th>6</th>\n",
              "      <td>대전</td>\n",
              "      <td>2381</td>\n",
              "    </tr>\n",
              "    <tr>\n",
              "      <th>7</th>\n",
              "      <td>부산</td>\n",
              "      <td>5350</td>\n",
              "    </tr>\n",
              "    <tr>\n",
              "      <th>8</th>\n",
              "      <td>서울</td>\n",
              "      <td>15306</td>\n",
              "    </tr>\n",
              "    <tr>\n",
              "      <th>9</th>\n",
              "      <td>세종</td>\n",
              "      <td>517</td>\n",
              "    </tr>\n",
              "    <tr>\n",
              "      <th>10</th>\n",
              "      <td>울산</td>\n",
              "      <td>2010</td>\n",
              "    </tr>\n",
              "    <tr>\n",
              "      <th>11</th>\n",
              "      <td>인천</td>\n",
              "      <td>4693</td>\n",
              "    </tr>\n",
              "    <tr>\n",
              "      <th>12</th>\n",
              "      <td>전남</td>\n",
              "      <td>3325</td>\n",
              "    </tr>\n",
              "    <tr>\n",
              "      <th>13</th>\n",
              "      <td>전북</td>\n",
              "      <td>3358</td>\n",
              "    </tr>\n",
              "    <tr>\n",
              "      <th>14</th>\n",
              "      <td>제주</td>\n",
              "      <td>292</td>\n",
              "    </tr>\n",
              "    <tr>\n",
              "      <th>15</th>\n",
              "      <td>충남</td>\n",
              "      <td>4563</td>\n",
              "    </tr>\n",
              "    <tr>\n",
              "      <th>16</th>\n",
              "      <td>충북</td>\n",
              "      <td>2608</td>\n",
              "    </tr>\n",
              "  </tbody>\n",
              "</table>\n",
              "</div>\n",
              "      <button class=\"colab-df-convert\" onclick=\"convertToInteractive('df-e916f65f-d272-4497-975a-fbfc505ceb9a')\"\n",
              "              title=\"Convert this dataframe to an interactive table.\"\n",
              "              style=\"display:none;\">\n",
              "        \n",
              "  <svg xmlns=\"http://www.w3.org/2000/svg\" height=\"24px\"viewBox=\"0 0 24 24\"\n",
              "       width=\"24px\">\n",
              "    <path d=\"M0 0h24v24H0V0z\" fill=\"none\"/>\n",
              "    <path d=\"M18.56 5.44l.94 2.06.94-2.06 2.06-.94-2.06-.94-.94-2.06-.94 2.06-2.06.94zm-11 1L8.5 8.5l.94-2.06 2.06-.94-2.06-.94L8.5 2.5l-.94 2.06-2.06.94zm10 10l.94 2.06.94-2.06 2.06-.94-2.06-.94-.94-2.06-.94 2.06-2.06.94z\"/><path d=\"M17.41 7.96l-1.37-1.37c-.4-.4-.92-.59-1.43-.59-.52 0-1.04.2-1.43.59L10.3 9.45l-7.72 7.72c-.78.78-.78 2.05 0 2.83L4 21.41c.39.39.9.59 1.41.59.51 0 1.02-.2 1.41-.59l7.78-7.78 2.81-2.81c.8-.78.8-2.07 0-2.86zM5.41 20L4 18.59l7.72-7.72 1.47 1.35L5.41 20z\"/>\n",
              "  </svg>\n",
              "      </button>\n",
              "      \n",
              "  <style>\n",
              "    .colab-df-container {\n",
              "      display:flex;\n",
              "      flex-wrap:wrap;\n",
              "      gap: 12px;\n",
              "    }\n",
              "\n",
              "    .colab-df-convert {\n",
              "      background-color: #E8F0FE;\n",
              "      border: none;\n",
              "      border-radius: 50%;\n",
              "      cursor: pointer;\n",
              "      display: none;\n",
              "      fill: #1967D2;\n",
              "      height: 32px;\n",
              "      padding: 0 0 0 0;\n",
              "      width: 32px;\n",
              "    }\n",
              "\n",
              "    .colab-df-convert:hover {\n",
              "      background-color: #E2EBFA;\n",
              "      box-shadow: 0px 1px 2px rgba(60, 64, 67, 0.3), 0px 1px 3px 1px rgba(60, 64, 67, 0.15);\n",
              "      fill: #174EA6;\n",
              "    }\n",
              "\n",
              "    [theme=dark] .colab-df-convert {\n",
              "      background-color: #3B4455;\n",
              "      fill: #D2E3FC;\n",
              "    }\n",
              "\n",
              "    [theme=dark] .colab-df-convert:hover {\n",
              "      background-color: #434B5C;\n",
              "      box-shadow: 0px 1px 3px 1px rgba(0, 0, 0, 0.15);\n",
              "      filter: drop-shadow(0px 1px 2px rgba(0, 0, 0, 0.3));\n",
              "      fill: #FFFFFF;\n",
              "    }\n",
              "  </style>\n",
              "\n",
              "      <script>\n",
              "        const buttonEl =\n",
              "          document.querySelector('#df-e916f65f-d272-4497-975a-fbfc505ceb9a button.colab-df-convert');\n",
              "        buttonEl.style.display =\n",
              "          google.colab.kernel.accessAllowed ? 'block' : 'none';\n",
              "\n",
              "        async function convertToInteractive(key) {\n",
              "          const element = document.querySelector('#df-e916f65f-d272-4497-975a-fbfc505ceb9a');\n",
              "          const dataTable =\n",
              "            await google.colab.kernel.invokeFunction('convertToInteractive',\n",
              "                                                     [key], {});\n",
              "          if (!dataTable) return;\n",
              "\n",
              "          const docLinkHtml = 'Like what you see? Visit the ' +\n",
              "            '<a target=\"_blank\" href=https://colab.research.google.com/notebooks/data_table.ipynb>data table notebook</a>'\n",
              "            + ' to learn more about interactive tables.';\n",
              "          element.innerHTML = '';\n",
              "          dataTable['output_type'] = 'display_data';\n",
              "          await google.colab.output.renderOutput(dataTable, element);\n",
              "          const docLink = document.createElement('div');\n",
              "          docLink.innerHTML = docLinkHtml;\n",
              "          element.appendChild(docLink);\n",
              "        }\n",
              "      </script>\n",
              "    </div>\n",
              "  </div>\n",
              "  "
            ]
          },
          "metadata": {},
          "execution_count": 33
        }
      ]
    },
    {
      "cell_type": "code",
      "source": [
        "plt.figure(figsize=(20, 10))\n",
        "df_ct2.plot(kind='bar',x='수하인_광역시도_이름',y='운송장_건수');"
      ],
      "metadata": {
        "colab": {
          "base_uri": "https://localhost:8080/",
          "height": 305
        },
        "id": "cLntAHhB0zvY",
        "outputId": "a1a84d0a-7199-48e1-ff52-f5fc9133322f"
      },
      "execution_count": 35,
      "outputs": [
        {
          "output_type": "display_data",
          "data": {
            "text/plain": [
              "<Figure size 1440x720 with 0 Axes>"
            ]
          },
          "metadata": {}
        },
        {
          "output_type": "display_data",
          "data": {
            "text/plain": [
              "<Figure size 432x288 with 1 Axes>"
            ],
            "image/png": "[encoded data removed]"
          },
          "metadata": {
            "needs_background": "light"
          }
        }
      ]
    },
    {
      "cell_type": "code",
      "source": [
        "# 제주로 들어오는 물류량 중 가장 큰 비중을 차지하는 지역은 경기이고 그 다음이 서울이다. 경기가 압도적으로 많이 차지하므로 이에 대해 분석한다.\n",
        "# 마찬가지로 인천항 루트를 사용하여 배편을 늘리는 것이 효과적이다.\n",
        "df_ct3 = df_1[df_1['수하인_광역시도_이름'] == '제주'].groupby('송하인_광역시도_이름')['운송장_건수'].sum()\n",
        "df_ct3 = pd.DataFrame(df_ct3).reset_index()\n",
        "df_ct3"
      ],
      "metadata": {
        "colab": {
          "base_uri": "https://localhost:8080/",
          "height": 582
        },
        "id": "uQP7JBphrsqr",
        "outputId": "0ebd0670-be9e-4f40-96fc-628efa851cdb"
      },
      "execution_count": 36,
      "outputs": [
        {
          "output_type": "execute_result",
          "data": {
            "text/plain": [
              "   송하인_광역시도_이름  운송장_건수\n",
              "0           강원     724\n",
              "1           경기   27198\n",
              "2           경남     953\n",
              "3           경북    1502\n",
              "4           광주     324\n",
              "5           대구    1176\n",
              "6           대전    1416\n",
              "7           부산    1214\n",
              "8           서울    6252\n",
              "9           세종      31\n",
              "10          울산     175\n",
              "11          인천    1250\n",
              "12          전남     758\n",
              "13          전북    1412\n",
              "14          제주    1090\n",
              "15          충남    1797\n",
              "16          충북    1832"
            ],
            "text/html": [
              "\n",
              "  <div id=\"df-a514e370-29e6-4c3b-a0ab-9200f1644b8e\">\n",
              "    <div class=\"colab-df-container\">\n",
              "      <div>\n",
              "<style scoped>\n",
              "    .dataframe tbody tr th:only-of-type {\n",
              "        vertical-align: middle;\n",
              "    }\n",
              "\n",
              "    .dataframe tbody tr th {\n",
              "        vertical-align: top;\n",
              "    }\n",
              "\n",
              "    .dataframe thead th {\n",
              "        text-align: right;\n",
              "    }\n",
              "</style>\n",
              "<table border=\"1\" class=\"dataframe\">\n",
              "  <thead>\n",
              "    <tr style=\"text-align: right;\">\n",
              "      <th></th>\n",
              "      <th>송하인_광역시도_이름</th>\n",
              "      <th>운송장_건수</th>\n",
              "    </tr>\n",
              "  </thead>\n",
              "  <tbody>\n",
              "    <tr>\n",
              "      <th>0</th>\n",
              "      <td>강원</td>\n",
              "      <td>724</td>\n",
              "    </tr>\n",
              "    <tr>\n",
              "      <th>1</th>\n",
              "      <td>경기</td>\n",
              "      <td>27198</td>\n",
              "    </tr>\n",
              "    <tr>\n",
              "      <th>2</th>\n",
              "      <td>경남</td>\n",
              "      <td>953</td>\n",
              "    </tr>\n",
              "    <tr>\n",
              "      <th>3</th>\n",
              "      <td>경북</td>\n",
              "      <td>1502</td>\n",
              "    </tr>\n",
              "    <tr>\n",
              "      <th>4</th>\n",
              "      <td>광주</td>\n",
              "      <td>324</td>\n",
              "    </tr>\n",
              "    <tr>\n",
              "      <th>5</th>\n",
              "      <td>대구</td>\n",
              "      <td>1176</td>\n",
              "    </tr>\n",
              "    <tr>\n",
              "      <th>6</th>\n",
              "      <td>대전</td>\n",
              "      <td>1416</td>\n",
              "    </tr>\n",
              "    <tr>\n",
              "      <th>7</th>\n",
              "      <td>부산</td>\n",
              "      <td>1214</td>\n",
              "    </tr>\n",
              "    <tr>\n",
              "      <th>8</th>\n",
              "      <td>서울</td>\n",
              "      <td>6252</td>\n",
              "    </tr>\n",
              "    <tr>\n",
              "      <th>9</th>\n",
              "      <td>세종</td>\n",
              "      <td>31</td>\n",
              "    </tr>\n",
              "    <tr>\n",
              "      <th>10</th>\n",
              "      <td>울산</td>\n",
              "      <td>175</td>\n",
              "    </tr>\n",
              "    <tr>\n",
              "      <th>11</th>\n",
              "      <td>인천</td>\n",
              "      <td>1250</td>\n",
              "    </tr>\n",
              "    <tr>\n",
              "      <th>12</th>\n",
              "      <td>전남</td>\n",
              "      <td>758</td>\n",
              "    </tr>\n",
              "    <tr>\n",
              "      <th>13</th>\n",
              "      <td>전북</td>\n",
              "      <td>1412</td>\n",
              "    </tr>\n",
              "    <tr>\n",
              "      <th>14</th>\n",
              "      <td>제주</td>\n",
              "      <td>1090</td>\n",
              "    </tr>\n",
              "    <tr>\n",
              "      <th>15</th>\n",
              "      <td>충남</td>\n",
              "      <td>1797</td>\n",
              "    </tr>\n",
              "    <tr>\n",
              "      <th>16</th>\n",
              "      <td>충북</td>\n",
              "      <td>1832</td>\n",
              "    </tr>\n",
              "  </tbody>\n",
              "</table>\n",
              "</div>\n",
              "      <button class=\"colab-df-convert\" onclick=\"convertToInteractive('df-a514e370-29e6-4c3b-a0ab-9200f1644b8e')\"\n",
              "              title=\"Convert this dataframe to an interactive table.\"\n",
              "              style=\"display:none;\">\n",
              "        \n",
              "  <svg xmlns=\"http://www.w3.org/2000/svg\" height=\"24px\"viewBox=\"0 0 24 24\"\n",
              "       width=\"24px\">\n",
              "    <path d=\"M0 0h24v24H0V0z\" fill=\"none\"/>\n",
              "    <path d=\"M18.56 5.44l.94 2.06.94-2.06 2.06-.94-2.06-.94-.94-2.06-.94 2.06-2.06.94zm-11 1L8.5 8.5l.94-2.06 2.06-.94-2.06-.94L8.5 2.5l-.94 2.06-2.06.94zm10 10l.94 2.06.94-2.06 2.06-.94-2.06-.94-.94-2.06-.94 2.06-2.06.94z\"/><path d=\"M17.41 7.96l-1.37-1.37c-.4-.4-.92-.59-1.43-.59-.52 0-1.04.2-1.43.59L10.3 9.45l-7.72 7.72c-.78.78-.78 2.05 0 2.83L4 21.41c.39.39.9.59 1.41.59.51 0 1.02-.2 1.41-.59l7.78-7.78 2.81-2.81c.8-.78.8-2.07 0-2.86zM5.41 20L4 18.59l7.72-7.72 1.47 1.35L5.41 20z\"/>\n",
              "  </svg>\n",
              "      </button>\n",
              "      \n",
              "  <style>\n",
              "    .colab-df-container {\n",
              "      display:flex;\n",
              "      flex-wrap:wrap;\n",
              "      gap: 12px;\n",
              "    }\n",
              "\n",
              "    .colab-df-convert {\n",
              "      background-color: #E8F0FE;\n",
              "      border: none;\n",
              "      border-radius: 50%;\n",
              "      cursor: pointer;\n",
              "      display: none;\n",
              "      fill: #1967D2;\n",
              "      height: 32px;\n",
              "      padding: 0 0 0 0;\n",
              "      width: 32px;\n",
              "    }\n",
              "\n",
              "    .colab-df-convert:hover {\n",
              "      background-color: #E2EBFA;\n",
              "      box-shadow: 0px 1px 2px rgba(60, 64, 67, 0.3), 0px 1px 3px 1px rgba(60, 64, 67, 0.15);\n",
              "      fill: #174EA6;\n",
              "    }\n",
              "\n",
              "    [theme=dark] .colab-df-convert {\n",
              "      background-color: #3B4455;\n",
              "      fill: #D2E3FC;\n",
              "    }\n",
              "\n",
              "    [theme=dark] .colab-df-convert:hover {\n",
              "      background-color: #434B5C;\n",
              "      box-shadow: 0px 1px 3px 1px rgba(0, 0, 0, 0.15);\n",
              "      filter: drop-shadow(0px 1px 2px rgba(0, 0, 0, 0.3));\n",
              "      fill: #FFFFFF;\n",
              "    }\n",
              "  </style>\n",
              "\n",
              "      <script>\n",
              "        const buttonEl =\n",
              "          document.querySelector('#df-a514e370-29e6-4c3b-a0ab-9200f1644b8e button.colab-df-convert');\n",
              "        buttonEl.style.display =\n",
              "          google.colab.kernel.accessAllowed ? 'block' : 'none';\n",
              "\n",
              "        async function convertToInteractive(key) {\n",
              "          const element = document.querySelector('#df-a514e370-29e6-4c3b-a0ab-9200f1644b8e');\n",
              "          const dataTable =\n",
              "            await google.colab.kernel.invokeFunction('convertToInteractive',\n",
              "                                                     [key], {});\n",
              "          if (!dataTable) return;\n",
              "\n",
              "          const docLinkHtml = 'Like what you see? Visit the ' +\n",
              "            '<a target=\"_blank\" href=https://colab.research.google.com/notebooks/data_table.ipynb>data table notebook</a>'\n",
              "            + ' to learn more about interactive tables.';\n",
              "          element.innerHTML = '';\n",
              "          dataTable['output_type'] = 'display_data';\n",
              "          await google.colab.output.renderOutput(dataTable, element);\n",
              "          const docLink = document.createElement('div');\n",
              "          docLink.innerHTML = docLinkHtml;\n",
              "          element.appendChild(docLink);\n",
              "        }\n",
              "      </script>\n",
              "    </div>\n",
              "  </div>\n",
              "  "
            ]
          },
          "metadata": {},
          "execution_count": 36
        }
      ]
    },
    {
      "cell_type": "code",
      "source": [
        "plt.figure(figsize=(20, 10))\n",
        "df_ct3.plot(kind='bar',x='송하인_광역시도_이름',y='운송장_건수');"
      ],
      "metadata": {
        "colab": {
          "base_uri": "https://localhost:8080/",
          "height": 305
        },
        "id": "Gl37X5E13-sg",
        "outputId": "6ae2c3d4-14cc-4650-c466-8daaca95cebe"
      },
      "execution_count": 38,
      "outputs": [
        {
          "output_type": "display_data",
          "data": {
            "text/plain": [
              "<Figure size 1440x720 with 0 Axes>"
            ]
          },
          "metadata": {}
        },
        {
          "output_type": "display_data",
          "data": {
            "text/plain": [
              "<Figure size 432x288 with 1 Axes>"
            ],
            "image/png": "[encoded data removed]"
          },
          "metadata": {
            "needs_background": "light"
          }
        }
      ]
    },
    {
      "cell_type": "code",
      "source": [
        "# 문화컨텐츠, 가공식품 등 많은 비중을 차지하는 물류는 특정 일반 저장 창고를 사용해도 무방하다.\n",
        "# 따라서 일반 저장 창고를 하나 신설할 계획을 수립한다.\n",
        "df_ct4 = df_1[(df_1['수하인_광역시도_이름'] == '제주') & (df_1['송하인_광역시도_이름'] == '경기')].groupby('물품_카테고리')['운송장_건수'].sum().sort_values(ascending=False).head(10)\n",
        "df_ct4 = pd.DataFrame(df_ct4).reset_index()\n",
        "df_ct4"
      ],
      "metadata": {
        "colab": {
          "base_uri": "https://localhost:8080/",
          "height": 363
        },
        "id": "t8cjjrr1r8o5",
        "outputId": "356b71e5-00b8-4fa3-94d2-7fcd54676a68"
      },
      "execution_count": 39,
      "outputs": [
        {
          "output_type": "execute_result",
          "data": {
            "text/plain": [
              "   물품_카테고리  운송장_건수\n",
              "0    문화컨텐츠    4558\n",
              "1     가공식품    2537\n",
              "2   기타패션의류    1823\n",
              "3     건강식품    1594\n",
              "4       음료    1192\n",
              "5     주방용품    1107\n",
              "6     건강용품    1045\n",
              "7     반려동물     996\n",
              "8  문구/사무용품     903\n",
              "9     생활용품     824"
            ],
            "text/html": [
              "\n",
              "  <div id=\"df-457f45d9-efa5-4355-bc29-9c0750ccda6d\">\n",
              "    <div class=\"colab-df-container\">\n",
              "      <div>\n",
              "<style scoped>\n",
              "    .dataframe tbody tr th:only-of-type {\n",
              "        vertical-align: middle;\n",
              "    }\n",
              "\n",
              "    .dataframe tbody tr th {\n",
              "        vertical-align: top;\n",
              "    }\n",
              "\n",
              "    .dataframe thead th {\n",
              "        text-align: right;\n",
              "    }\n",
              "</style>\n",
              "<table border=\"1\" class=\"dataframe\">\n",
              "  <thead>\n",
              "    <tr style=\"text-align: right;\">\n",
              "      <th></th>\n",
              "      <th>물품_카테고리</th>\n",
              "      <th>운송장_건수</th>\n",
              "    </tr>\n",
              "  </thead>\n",
              "  <tbody>\n",
              "    <tr>\n",
              "      <th>0</th>\n",
              "      <td>문화컨텐츠</td>\n",
              "      <td>4558</td>\n",
              "    </tr>\n",
              "    <tr>\n",
              "      <th>1</th>\n",
              "      <td>가공식품</td>\n",
              "      <td>2537</td>\n",
              "    </tr>\n",
              "    <tr>\n",
              "      <th>2</th>\n",
              "      <td>기타패션의류</td>\n",
              "      <td>1823</td>\n",
              "    </tr>\n",
              "    <tr>\n",
              "      <th>3</th>\n",
              "      <td>건강식품</td>\n",
              "      <td>1594</td>\n",
              "    </tr>\n",
              "    <tr>\n",
              "      <th>4</th>\n",
              "      <td>음료</td>\n",
              "      <td>1192</td>\n",
              "    </tr>\n",
              "    <tr>\n",
              "      <th>5</th>\n",
              "      <td>주방용품</td>\n",
              "      <td>1107</td>\n",
              "    </tr>\n",
              "    <tr>\n",
              "      <th>6</th>\n",
              "      <td>건강용품</td>\n",
              "      <td>1045</td>\n",
              "    </tr>\n",
              "    <tr>\n",
              "      <th>7</th>\n",
              "      <td>반려동물</td>\n",
              "      <td>996</td>\n",
              "    </tr>\n",
              "    <tr>\n",
              "      <th>8</th>\n",
              "      <td>문구/사무용품</td>\n",
              "      <td>903</td>\n",
              "    </tr>\n",
              "    <tr>\n",
              "      <th>9</th>\n",
              "      <td>생활용품</td>\n",
              "      <td>824</td>\n",
              "    </tr>\n",
              "  </tbody>\n",
              "</table>\n",
              "</div>\n",
              "      <button class=\"colab-df-convert\" onclick=\"convertToInteractive('df-457f45d9-efa5-4355-bc29-9c0750ccda6d')\"\n",
              "              title=\"Convert this dataframe to an interactive table.\"\n",
              "              style=\"display:none;\">\n",
              "        \n",
              "  <svg xmlns=\"http://www.w3.org/2000/svg\" height=\"24px\"viewBox=\"0 0 24 24\"\n",
              "       width=\"24px\">\n",
              "    <path d=\"M0 0h24v24H0V0z\" fill=\"none\"/>\n",
              "    <path d=\"M18.56 5.44l.94 2.06.94-2.06 2.06-.94-2.06-.94-.94-2.06-.94 2.06-2.06.94zm-11 1L8.5 8.5l.94-2.06 2.06-.94-2.06-.94L8.5 2.5l-.94 2.06-2.06.94zm10 10l.94 2.06.94-2.06 2.06-.94-2.06-.94-.94-2.06-.94 2.06-2.06.94z\"/><path d=\"M17.41 7.96l-1.37-1.37c-.4-.4-.92-.59-1.43-.59-.52 0-1.04.2-1.43.59L10.3 9.45l-7.72 7.72c-.78.78-.78 2.05 0 2.83L4 21.41c.39.39.9.59 1.41.59.51 0 1.02-.2 1.41-.59l7.78-7.78 2.81-2.81c.8-.78.8-2.07 0-2.86zM5.41 20L4 18.59l7.72-7.72 1.47 1.35L5.41 20z\"/>\n",
              "  </svg>\n",
              "      </button>\n",
              "      \n",
              "  <style>\n",
              "    .colab-df-container {\n",
              "      display:flex;\n",
              "      flex-wrap:wrap;\n",
              "      gap: 12px;\n",
              "    }\n",
              "\n",
              "    .colab-df-convert {\n",
              "      background-color: #E8F0FE;\n",
              "      border: none;\n",
              "      border-radius: 50%;\n",
              "      cursor: pointer;\n",
              "      display: none;\n",
              "      fill: #1967D2;\n",
              "      height: 32px;\n",
              "      padding: 0 0 0 0;\n",
              "      width: 32px;\n",
              "    }\n",
              "\n",
              "    .colab-df-convert:hover {\n",
              "      background-color: #E2EBFA;\n",
              "      box-shadow: 0px 1px 2px rgba(60, 64, 67, 0.3), 0px 1px 3px 1px rgba(60, 64, 67, 0.15);\n",
              "      fill: #174EA6;\n",
              "    }\n",
              "\n",
              "    [theme=dark] .colab-df-convert {\n",
              "      background-color: #3B4455;\n",
              "      fill: #D2E3FC;\n",
              "    }\n",
              "\n",
              "    [theme=dark] .colab-df-convert:hover {\n",
              "      background-color: #434B5C;\n",
              "      box-shadow: 0px 1px 3px 1px rgba(0, 0, 0, 0.15);\n",
              "      filter: drop-shadow(0px 1px 2px rgba(0, 0, 0, 0.3));\n",
              "      fill: #FFFFFF;\n",
              "    }\n",
              "  </style>\n",
              "\n",
              "      <script>\n",
              "        const buttonEl =\n",
              "          document.querySelector('#df-457f45d9-efa5-4355-bc29-9c0750ccda6d button.colab-df-convert');\n",
              "        buttonEl.style.display =\n",
              "          google.colab.kernel.accessAllowed ? 'block' : 'none';\n",
              "\n",
              "        async function convertToInteractive(key) {\n",
              "          const element = document.querySelector('#df-457f45d9-efa5-4355-bc29-9c0750ccda6d');\n",
              "          const dataTable =\n",
              "            await google.colab.kernel.invokeFunction('convertToInteractive',\n",
              "                                                     [key], {});\n",
              "          if (!dataTable) return;\n",
              "\n",
              "          const docLinkHtml = 'Like what you see? Visit the ' +\n",
              "            '<a target=\"_blank\" href=https://colab.research.google.com/notebooks/data_table.ipynb>data table notebook</a>'\n",
              "            + ' to learn more about interactive tables.';\n",
              "          element.innerHTML = '';\n",
              "          dataTable['output_type'] = 'display_data';\n",
              "          await google.colab.output.renderOutput(dataTable, element);\n",
              "          const docLink = document.createElement('div');\n",
              "          docLink.innerHTML = docLinkHtml;\n",
              "          element.appendChild(docLink);\n",
              "        }\n",
              "      </script>\n",
              "    </div>\n",
              "  </div>\n",
              "  "
            ]
          },
          "metadata": {},
          "execution_count": 39
        }
      ]
    },
    {
      "cell_type": "code",
      "source": [
        "plt.figure(figsize=(20, 10))\n",
        "df_ct4.plot(kind='bar',x='물품_카테고리',y='운송장_건수');"
      ],
      "metadata": {
        "colab": {
          "base_uri": "https://localhost:8080/",
          "height": 345
        },
        "id": "1uKk68XH4vIt",
        "outputId": "f1631698-9043-409e-e59c-d2c12172ac6c"
      },
      "execution_count": 40,
      "outputs": [
        {
          "output_type": "display_data",
          "data": {
            "text/plain": [
              "<Figure size 1440x720 with 0 Axes>"
            ]
          },
          "metadata": {}
        },
        {
          "output_type": "display_data",
          "data": {
            "text/plain": [
              "<Figure size 432x288 with 1 Axes>"
            ],
            "image/png": "[encoded data removed]"
          },
          "metadata": {
            "needs_background": "light"
          }
        }
      ]
    },
    {
      "cell_type": "code",
      "source": [
        "df_agr = df_1[(df_1['송하인_광역시도_이름'] == '제주') & (df_1['물품_카테고리'] == '농산물')]"
      ],
      "metadata": {
        "id": "iyMoWfnmrXJA"
      },
      "execution_count": 32,
      "outputs": []
    },
    {
      "cell_type": "code",
      "source": [
        "df_1[(df_1['수하인_광역시도_이름'] == '제주') & (df_1['물품_카테고리'] == '농산물')]['운송장_건수'].sum()"
      ],
      "metadata": {
        "colab": {
          "base_uri": "https://localhost:8080/"
        },
        "id": "xcVyh2eggTeJ",
        "outputId": "e88f67c7-aaad-4d77-a015-dba73fed1dfb"
      },
      "execution_count": 29,
      "outputs": [
        {
          "output_type": "execute_result",
          "data": {
            "text/plain": [
              "2247"
            ]
          },
          "metadata": {},
          "execution_count": 29
        }
      ]
    },
    {
      "cell_type": "code",
      "source": [
        "df_1.columns"
      ],
      "metadata": {
        "colab": {
          "base_uri": "https://localhost:8080/"
        },
        "id": "1k-I8KNzNDO4",
        "outputId": "2aebefe1-e6f1-4433-fbd1-6072ab8d2872"
      },
      "execution_count": 30,
      "outputs": [
        {
          "output_type": "execute_result",
          "data": {
            "text/plain": [
              "Index(['물품_카테고리', '운송장_건수', '송하인_광역시도', '송하인_시군구', '송하인_읍면동', '송하인_리',\n",
              "       '송하인_격자공간번호', '수하인_광역시도', '수하인_시군구', '수하인_읍면동', '수하인_리', '수하인_격자공간번호',\n",
              "       '송하인_광역시도_이름', '수하인_광역시도_이름'],\n",
              "      dtype='object')"
            ]
          },
          "metadata": {},
          "execution_count": 30
        }
      ]
    },
    {
      "cell_type": "code",
      "source": [
        "# 훈련, 테스트 데이터 나누기\n",
        "from sklearn.model_selection import train_test_split\n",
        "\n",
        "train, test = train_test_split(df_1, test_size=0.2, random_state=42)"
      ],
      "metadata": {
        "id": "ikbIDfqqUvwn"
      },
      "execution_count": 41,
      "outputs": []
    },
    {
      "cell_type": "code",
      "source": [
        "train.shape, test.shape"
      ],
      "metadata": {
        "colab": {
          "base_uri": "https://localhost:8080/"
        },
        "id": "Kn0TbDzw7wiX",
        "outputId": "0d11e14c-f6a4-40e9-eae6-062048c27bdb"
      },
      "execution_count": 42,
      "outputs": [
        {
          "output_type": "execute_result",
          "data": {
            "text/plain": [
              "((25347, 14), (6337, 14))"
            ]
          },
          "metadata": {},
          "execution_count": 42
        }
      ]
    },
    {
      "cell_type": "code",
      "source": [
        "target = '운송장_건수'\n",
        "features = df_1.columns.drop(['운송장_건수','송하인_광역시도_이름', '수하인_광역시도_이름'])\n",
        "\n",
        "X_train = train[features]\n",
        "y_train = train[target]\n",
        "X_test = test[features]\n",
        "y_test = test[target]"
      ],
      "metadata": {
        "id": "DtE7G4qe22qa"
      },
      "execution_count": 43,
      "outputs": []
    },
    {
      "cell_type": "code",
      "source": [
        "# 우리는 운송량을 예측해야 하므로 회귀 모델을 선택한다."
      ],
      "metadata": {
        "id": "h_Bdw_xh482I"
      },
      "execution_count": 35,
      "outputs": []
    },
    {
      "cell_type": "code",
      "source": [
        "from sklearn.preprocessing import LabelEncoder\n",
        "\n",
        "encoding = LabelEncoder()\n",
        "X_train['물품_카테고리'] = encoding.fit_transform(X_train['물품_카테고리'])\n",
        "X_test['물품_카테고리'] = encoding.fit_transform(X_test['물품_카테고리'])"
      ],
      "metadata": {
        "colab": {
          "base_uri": "https://localhost:8080/"
        },
        "id": "0xdMNDvDmBxF",
        "outputId": "72ef2114-c257-4543-e67d-842578883661"
      },
      "execution_count": 44,
      "outputs": [
        {
          "output_type": "stream",
          "name": "stderr",
          "text": [
            "/usr/local/lib/python3.7/dist-packages/ipykernel_launcher.py:4: SettingWithCopyWarning: \n",
            "A value is trying to be set on a copy of a slice from a DataFrame.\n",
            "Try using .loc[row_indexer,col_indexer] = value instead\n",
            "\n",
            "See the caveats in the documentation: https://pandas.pydata.org/pandas-docs/stable/user_guide/indexing.html#returning-a-view-versus-a-copy\n",
            "  after removing the cwd from sys.path.\n",
            "/usr/local/lib/python3.7/dist-packages/ipykernel_launcher.py:5: SettingWithCopyWarning: \n",
            "A value is trying to be set on a copy of a slice from a DataFrame.\n",
            "Try using .loc[row_indexer,col_indexer] = value instead\n",
            "\n",
            "See the caveats in the documentation: https://pandas.pydata.org/pandas-docs/stable/user_guide/indexing.html#returning-a-view-versus-a-copy\n",
            "  \"\"\"\n"
          ]
        }
      ]
    },
    {
      "cell_type": "code",
      "source": [
        "from sklearn.preprocessing import LabelEncoder\n",
        "from sklearn.pipeline import make_pipeline\n",
        "from sklearn.model_selection import RandomizedSearchCV\n",
        "from xgboost import XGBRegressor\n",
        "from sklearn.model_selection import KFold\n",
        "\n",
        "pipeline = make_pipeline(\n",
        "    XGBRegressor()\n",
        "    )\n",
        "\n",
        "dists = {\n",
        "    'xgbregressor__n_estimators' : [100, 150, 200, 250, 300],\n",
        "    'xgbregressor__learning_rate' : [0.05, 0.1, 0.15, 0.2, 0.25, 0.3],\n",
        "    'xgbregressor__max_depth' : [5, 10, 15, 20, 25 ,30],\n",
        "    'xgbregressor__min_samples_leaf' : [10, 20, 30, 40, 50]\n",
        "    }\n",
        "    \n",
        "kf = KFold(n_splits=10, random_state=None)\n",
        "\n",
        "clf = RandomizedSearchCV(pipeline,\n",
        "                          param_distributions = dists,\n",
        "                          n_iter = 7,\n",
        "                          cv = kf,\n",
        "                          scoring='neg_mean_squared_error',\n",
        "                          verbose = 1,\n",
        "                          n_jobs = -1,\n",
        "                          random_state=2)\n",
        "    \n"
      ],
      "metadata": {
        "id": "Nh0o7hFc68Kj"
      },
      "execution_count": 45,
      "outputs": []
    },
    {
      "cell_type": "code",
      "source": [
        "clf.fit(X_train, y_train)"
      ],
      "metadata": {
        "colab": {
          "base_uri": "https://localhost:8080/"
        },
        "id": "KENSJfaqGgeK",
        "outputId": "8ad78330-e55c-4807-a65f-f5d31b103dca"
      },
      "execution_count": 46,
      "outputs": [
        {
          "output_type": "stream",
          "name": "stdout",
          "text": [
            "Fitting 10 folds for each of 7 candidates, totalling 70 fits\n",
            "[01:59:47] WARNING: /workspace/src/objective/regression_obj.cu:152: reg:linear is now deprecated in favor of reg:squarederror.\n"
          ]
        },
        {
          "output_type": "execute_result",
          "data": {
            "text/plain": [
              "RandomizedSearchCV(cv=KFold(n_splits=10, random_state=None, shuffle=False),\n",
              "                   estimator=Pipeline(steps=[('xgbregressor', XGBRegressor())]),\n",
              "                   n_iter=7, n_jobs=-1,\n",
              "                   param_distributions={'xgbregressor__learning_rate': [0.05,\n",
              "                                                                        0.1,\n",
              "                                                                        0.15,\n",
              "                                                                        0.2,\n",
              "                                                                        0.25,\n",
              "                                                                        0.3],\n",
              "                                        'xgbregressor__max_depth': [5, 10, 15,\n",
              "                                                                    20, 25,\n",
              "                                                                    30],\n",
              "                                        'xgbregressor__min_samples_leaf': [10,\n",
              "                                                                           20,\n",
              "                                                                           30,\n",
              "                                                                           40,\n",
              "                                                                           50],\n",
              "                                        'xgbregressor__n_estimators': [100, 150,\n",
              "                                                                       200, 250,\n",
              "                                                                       300]},\n",
              "                   random_state=2, scoring='neg_mean_squared_error', verbose=1)"
            ]
          },
          "metadata": {},
          "execution_count": 46
        }
      ]
    },
    {
      "cell_type": "code",
      "source": [
        "print(\"Optimal Hyperparameter:\", clf.best_params_)\n",
        "print(\"MAE:\", clf.best_score_)"
      ],
      "metadata": {
        "colab": {
          "base_uri": "https://localhost:8080/"
        },
        "id": "fRf92YBhqpri",
        "outputId": "3ea7e5cb-3fcf-4de9-cefb-fea5dba278bb"
      },
      "execution_count": 39,
      "outputs": [
        {
          "output_type": "stream",
          "name": "stdout",
          "text": [
            "Optimal Hyperparameter: {'xgbregressor__n_estimators': 250, 'xgbregressor__min_samples_leaf': 40, 'xgbregressor__max_depth': 5, 'xgbregressor__learning_rate': 0.1}\n",
            "MAE: -2.3911503057920926\n"
          ]
        }
      ]
    },
    {
      "cell_type": "code",
      "source": [
        "from sklearn.metrics import mean_absolute_error\n",
        "y_test_pred = clf.predict(X_test)\n",
        "test_mae = mean_absolute_error(y_test, y_test_pred)\n",
        "print('테스트 MAE: ', test_mae)"
      ],
      "metadata": {
        "colab": {
          "base_uri": "https://localhost:8080/"
        },
        "id": "KBqXP1d8ZzwQ",
        "outputId": "5cbb0c91-b08b-41c0-a374-bd24985b9880"
      },
      "execution_count": 44,
      "outputs": [
        {
          "output_type": "stream",
          "name": "stdout",
          "text": [
            "테스트 MAE:  2.4675026774331186\n"
          ]
        }
      ]
    },
    {
      "cell_type": "code",
      "source": [
        "print('기준모델: ', st_mae)\n",
        "print('테스트 성능: ', test_mae)"
      ],
      "metadata": {
        "colab": {
          "base_uri": "https://localhost:8080/"
        },
        "id": "_caUBjiVcrqN",
        "outputId": "21b4a6c2-4c2a-47cb-c793-24cff3545759"
      },
      "execution_count": 45,
      "outputs": [
        {
          "output_type": "stream",
          "name": "stdout",
          "text": [
            "기준모델:  2.428668539658766\n",
            "테스트 성능:  2.4675026774331186\n"
          ]
        }
      ]
    },
    {
      "cell_type": "code",
      "source": [
        "from sklearn.metrics import mean_squared_error \n",
        "y_test_pred = clf.predict(X_test)\n",
        "test_rmse = mean_squared_error(y_test, y_test_pred)\n",
        "\n",
        "print(\"RMSE: \", np.sqrt(test_rmse))"
      ],
      "metadata": {
        "colab": {
          "base_uri": "https://localhost:8080/"
        },
        "id": "ZIXzi5y89AcH",
        "outputId": "7ceb2e52-74e0-48fb-949b-e7cc73dd0c69"
      },
      "execution_count": 47,
      "outputs": [
        {
          "output_type": "stream",
          "name": "stdout",
          "text": [
            "RMSE:  6.67364562343783\n"
          ]
        }
      ]
    },
    {
      "cell_type": "code",
      "source": [
        "from sklearn.ensemble import RandomForestRegressor\n",
        "from sklearn.tree import DecisionTreeRegressor\n",
        "from sklearn.pipeline import Pipeline\n",
        "from xgboost import XGBRegressor\n",
        "from sklearn.model_selection import KFold\n",
        "\n",
        "pipe = Pipeline([('regressor', RandomForestRegressor())])\n",
        "search_space = [\n",
        "                {\n",
        "                 'regressor': [RandomForestRegressor(random_state=0)],\n",
        "                 'regressor__n_estimators': [100, 150, 200],\n",
        "                 'regressor__max_depth': [3, 4, 5]\n",
        "                },\n",
        "                \n",
        "                {\n",
        "                 'regressor': [XGBRegressor(random_state=0)],\n",
        "                 'regressor__max_depth': [3],\n",
        "                 'regressor__n_estimators': [100, 150, 200],\n",
        "                 'regressor__eta': [0.02, 0.1],\n",
        "                 'regressor__subsample': [0.5, 0.6],\n",
        "                 'regressor__seed':[0]\n",
        "                },\n",
        "                \n",
        "                {\n",
        "                 'regressor': [DecisionTreeRegressor(random_state=0)],\n",
        "                 'regressor__min_samples_split':[3, 4, 5],\n",
        "                 'regressor__max_depth': [3, 4, 5]\n",
        "                }\n",
        "               ]"
      ],
      "metadata": {
        "id": "b1f2XRXUnO3Z"
      },
      "execution_count": 51,
      "outputs": []
    },
    {
      "cell_type": "code",
      "source": [
        "from sklearn.model_selection import GridSearchCV\n",
        "import math\n",
        "\n",
        "kf = KFold(n_splits=10, random_state=None)\n",
        "grid_search = GridSearchCV(pipe,search_space, cv=kf, scoring='neg_mean_squared_error', n_jobs=-1)\n",
        "grid_search.fit(X_train, y_train.values.ravel())"
      ],
      "metadata": {
        "colab": {
          "base_uri": "https://localhost:8080/"
        },
        "id": "73R5Uojx4fqz",
        "outputId": "7713721a-21e8-4329-c07e-9389fb70bc38"
      },
      "execution_count": 52,
      "outputs": [
        {
          "output_type": "execute_result",
          "data": {
            "text/plain": [
              "GridSearchCV(cv=KFold(n_splits=10, random_state=None, shuffle=False),\n",
              "             estimator=Pipeline(steps=[('regressor', RandomForestRegressor())]),\n",
              "             n_jobs=-1,\n",
              "             param_grid=[{'regressor': [RandomForestRegressor(random_state=0)],\n",
              "                          'regressor__max_depth': [3, 4, 5],\n",
              "                          'regressor__n_estimators': [100, 150, 200]},\n",
              "                         {'regressor': [XGBRegressor()],\n",
              "                          'regressor__eta': [0.02, 0.1],\n",
              "                          'regressor__max_depth': [3],\n",
              "                          'regressor__n_estimators': [100, 150, 200],\n",
              "                          'regressor__seed': [0],\n",
              "                          'regressor__subsample': [0.5, 0.6]},\n",
              "                         {'regressor': [DecisionTreeRegressor(max_depth=4,\n",
              "                                                              min_samples_split=4,\n",
              "                                                              random_state=0)],\n",
              "                          'regressor__max_depth': [3, 4, 5],\n",
              "                          'regressor__min_samples_split': [3, 4, 5]}],\n",
              "             scoring='neg_mean_squared_error')"
            ]
          },
          "metadata": {},
          "execution_count": 52
        }
      ]
    },
    {
      "cell_type": "code",
      "source": [
        "print('best params:', grid_search.best_params_)\n",
        "print('best estimator:', grid_search.best_estimator_)\n",
        "#print('best mae :', grid_search.best_score_)\n",
        "print('best rmse :', math.sqrt(-(grid_search.best_score_)))"
      ],
      "metadata": {
        "colab": {
          "base_uri": "https://localhost:8080/"
        },
        "id": "OsB_Dq1Y7Q7i",
        "outputId": "1323e03e-dfb0-49bf-99a4-98784854adf8"
      },
      "execution_count": 55,
      "outputs": [
        {
          "output_type": "stream",
          "name": "stdout",
          "text": [
            "best params: {'regressor': DecisionTreeRegressor(max_depth=4, min_samples_split=4, random_state=0), 'regressor__max_depth': 4, 'regressor__min_samples_split': 4}\n",
            "best estimator: Pipeline(steps=[('regressor',\n",
            "                 DecisionTreeRegressor(max_depth=4, min_samples_split=4,\n",
            "                                       random_state=0))])\n",
            "best rmse : 6.226980912724103\n"
          ]
        }
      ]
    },
    {
      "cell_type": "code",
      "source": [
        "# 기준모델 생성\n",
        "predict = y_train.mean()\n",
        "y_pred = [predict] * len(y_train)\n",
        "st_mae = mean_absolute_error(y_train, y_pred)\n",
        "\n",
        "print('훈련 에러: ', st_mae)"
      ],
      "metadata": {
        "colab": {
          "base_uri": "https://localhost:8080/"
        },
        "id": "HNmsJA0eteeA",
        "outputId": "3e2a38db-2736-4d82-ce34-401da10f3584"
      },
      "execution_count": 35,
      "outputs": [
        {
          "output_type": "stream",
          "name": "stdout",
          "text": [
            "훈련 에러:  2.428668539658766\n"
          ]
        }
      ]
    },
    {
      "cell_type": "code",
      "source": [
        "from sklearn.metrics import mean_absolute_error\n",
        "grid_search.predict(X_test)\n",
        "y_test_pred = grid_search.predict(X_test)\n",
        "test_mae = mean_absolute_error(y_test, y_test_pred)\n",
        "print('테스트 MAE: ', test_mae)"
      ],
      "metadata": {
        "colab": {
          "base_uri": "https://localhost:8080/"
        },
        "id": "MO_lGa84xzDH",
        "outputId": "b4dc884f-f9e5-4adb-a3f2-b4fe7cc1a491"
      },
      "execution_count": 34,
      "outputs": [
        {
          "output_type": "stream",
          "name": "stdout",
          "text": [
            "테스트 MAE:  2.3834883439265724\n"
          ]
        }
      ]
    },
    {
      "cell_type": "code",
      "source": [
        "print('기준모델: ', st_mae)\n",
        "print('테스트 성능: ', test_mae)"
      ],
      "metadata": {
        "colab": {
          "base_uri": "https://localhost:8080/"
        },
        "id": "YZqlR_C-qG4l",
        "outputId": "fc84d30a-4e1f-4b2b-8c30-3dce596aba69"
      },
      "execution_count": 36,
      "outputs": [
        {
          "output_type": "stream",
          "name": "stdout",
          "text": [
            "기준모델:  2.428668539658766\n",
            "테스트 성능:  2.3834883439265724\n"
          ]
        }
      ]
    },
    {
      "cell_type": "code",
      "source": [
        "y_pred = [predict] * len(y_test)\n",
        "mae = mean_absolute_error(y_test, y_pred)\n",
        "\n",
        "print('테스 에러: ', mae)"
      ],
      "metadata": {
        "colab": {
          "base_uri": "https://localhost:8080/"
        },
        "id": "7pqIez2_t0Rv",
        "outputId": "f34a4192-ccc7-4e04-f054-24b828c7d043"
      },
      "execution_count": 52,
      "outputs": [
        {
          "output_type": "stream",
          "name": "stdout",
          "text": [
            "테스트 에러:  2.391125148537168\n"
          ]
        }
      ]
    },
    {
      "cell_type": "code",
      "source": [
        "#rmse 사용\n",
        "from sklearn.metrics import mean_squared_error \n",
        "\n",
        "predict = y_train.mean()\n",
        "y_pred = [predict] * len(y_train)\n",
        "\n",
        "MSE = mean_squared_error(y_train, y_pred) \n",
        "np.sqrt(MSE)"
      ],
      "metadata": {
        "colab": {
          "base_uri": "https://localhost:8080/"
        },
        "id": "mHq42aGyvJbO",
        "outputId": "2ae17a69-fdbe-4588-b578-8aa29d949343"
      },
      "execution_count": 37,
      "outputs": [
        {
          "output_type": "execute_result",
          "data": {
            "text/plain": [
              "6.891541775470392"
            ]
          },
          "metadata": {},
          "execution_count": 37
        }
      ]
    },
    {
      "cell_type": "code",
      "source": [
        "y_test_pred = grid_search.predict(X_test)\n",
        "test_rmse = mean_squared_error(y_test, y_test_pred)\n",
        "print('테스트 RMSE: ', np.sqrt(test_rmse))"
      ],
      "metadata": {
        "colab": {
          "base_uri": "https://localhost:8080/"
        },
        "id": "JQ6S4diW4dce",
        "outputId": "a51ceb43-d3ae-4225-d84b-2d0ae1094dd4"
      },
      "execution_count": 41,
      "outputs": [
        {
          "output_type": "stream",
          "name": "stdout",
          "text": [
            "테스트 RMSE:  6.644431952762977\n"
          ]
        }
      ]
    },
    {
      "cell_type": "code",
      "source": [
        "df['운송장_건수'].mean()"
      ],
      "metadata": {
        "colab": {
          "base_uri": "https://localhost:8080/"
        },
        "id": "0vmR_YwDBRJQ",
        "outputId": "55180980-7030-4909-b8bf-1f4b53abfdf7"
      },
      "execution_count": 48,
      "outputs": [
        {
          "output_type": "execute_result",
          "data": {
            "text/plain": [
              "4.879308168160586"
            ]
          },
          "metadata": {},
          "execution_count": 48
        }
      ]
    },
    {
      "cell_type": "code",
      "source": [
        "df['운송장_건수'].max()"
      ],
      "metadata": {
        "colab": {
          "base_uri": "https://localhost:8080/"
        },
        "id": "bCg_5px7BXT6",
        "outputId": "67476d46-699a-45b6-a2be-2b20a430a268"
      },
      "execution_count": 49,
      "outputs": [
        {
          "output_type": "execute_result",
          "data": {
            "text/plain": [
              "413"
            ]
          },
          "metadata": {},
          "execution_count": 49
        }
      ]
    },
    {
      "cell_type": "code",
      "source": [
        "grid_search.best_estimator_.named_steps[\"regressor\"].feature_importances_"
      ],
      "metadata": {
        "colab": {
          "base_uri": "https://localhost:8080/"
        },
        "id": "6p82mDlBBZKJ",
        "outputId": "b16f6ec5-2eee-4d15-c04f-eb4d3740a568"
      },
      "execution_count": 58,
      "outputs": [
        {
          "output_type": "execute_result",
          "data": {
            "text/plain": [
              "array([0.11915034, 0.00448448, 0.01400711, 0.00310204, 0.01244591,\n",
              "       0.80986394, 0.        , 0.        , 0.        , 0.03694619,\n",
              "       0.        ])"
            ]
          },
          "metadata": {},
          "execution_count": 58
        }
      ]
    },
    {
      "cell_type": "code",
      "source": [
        "X_train.columns"
      ],
      "metadata": {
        "colab": {
          "base_uri": "https://localhost:8080/"
        },
        "id": "GD_ef1LJGuq4",
        "outputId": "51388343-77c3-4b40-be85-889ab81fd7ef"
      },
      "execution_count": 60,
      "outputs": [
        {
          "output_type": "execute_result",
          "data": {
            "text/plain": [
              "Index(['물품_카테고리', '송하인_광역시도', '송하인_시군구', '송하인_읍면동', '송하인_리', '송하인_격자공간번호',\n",
              "       '수하인_광역시도', '수하인_시군구', '수하인_읍면동', '수하인_리', '수하인_격자공간번호'],\n",
              "      dtype='object')"
            ]
          },
          "metadata": {},
          "execution_count": 60
        }
      ]
    },
    {
      "cell_type": "code",
      "source": [
        "importances = pd.Series(grid_search.best_estimator_.named_steps[\"regressor\"].feature_importances_, X_train.columns)\n",
        "plt.figure(figsize=(10,10))\n",
        "importances.sort_values().plot.barh();"
      ],
      "metadata": {
        "colab": {
          "base_uri": "https://localhost:8080/",
          "height": 592
        },
        "id": "1Z_MXKa4El2h",
        "outputId": "d548ae85-3d6b-4898-c98c-ad9b00181d7a"
      },
      "execution_count": 62,
      "outputs": [
        {
          "output_type": "display_data",
          "data": {
            "text/plain": [
              "<Figure size 720x720 with 1 Axes>"
            ],
            "image/png": "[encoded data removed]"
          },
          "metadata": {
            "needs_background": "light"
          }
        }
      ]
    }
  ]
}